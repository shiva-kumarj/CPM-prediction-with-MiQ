{
 "cells": [
  {
   "cell_type": "markdown",
   "metadata": {},
   "source": [
    "# Base Model"
   ]
  },
  {
   "cell_type": "code",
   "execution_count": 1,
   "metadata": {
    "ExecuteTime": {
     "end_time": "2020-09-28T03:17:41.748668Z",
     "start_time": "2020-09-28T03:17:40.953136Z"
    }
   },
   "outputs": [],
   "source": [
    "import numpy as np\n",
    "import pandas as pd\n",
    "import matplotlib.pyplot as plt"
   ]
  },
  {
   "cell_type": "code",
   "execution_count": 2,
   "metadata": {
    "ExecuteTime": {
     "end_time": "2020-09-28T03:17:43.427750Z",
     "start_time": "2020-09-28T03:17:41.750646Z"
    },
    "scrolled": true
   },
   "outputs": [
    {
     "data": {
      "text/html": [
       "<div>\n",
       "<style scoped>\n",
       "    .dataframe tbody tr th:only-of-type {\n",
       "        vertical-align: middle;\n",
       "    }\n",
       "\n",
       "    .dataframe tbody tr th {\n",
       "        vertical-align: top;\n",
       "    }\n",
       "\n",
       "    .dataframe thead th {\n",
       "        text-align: right;\n",
       "    }\n",
       "</style>\n",
       "<table border=\"1\" class=\"dataframe\">\n",
       "  <thead>\n",
       "    <tr style=\"text-align: right;\">\n",
       "      <th></th>\n",
       "      <th>Line Item ID</th>\n",
       "      <th>Date</th>\n",
       "      <th>App/URL ID</th>\n",
       "      <th>ISP or Carrier ID</th>\n",
       "      <th>Device Type</th>\n",
       "      <th>Exchange ID</th>\n",
       "      <th>Operating System</th>\n",
       "      <th>Browser</th>\n",
       "      <th>Creative Size</th>\n",
       "      <th>Advertiser Currency</th>\n",
       "      <th>Impressions</th>\n",
       "      <th>IO_ID</th>\n",
       "      <th>CPM</th>\n",
       "    </tr>\n",
       "  </thead>\n",
       "  <tbody>\n",
       "    <tr>\n",
       "      <th>0</th>\n",
       "      <td>2</td>\n",
       "      <td>17-08-2020</td>\n",
       "      <td>1.5164E+11</td>\n",
       "      <td>1000</td>\n",
       "      <td>Desktop</td>\n",
       "      <td>1</td>\n",
       "      <td>Macintosh</td>\n",
       "      <td>Chrome</td>\n",
       "      <td>728x90</td>\n",
       "      <td>CAD</td>\n",
       "      <td>2</td>\n",
       "      <td>1</td>\n",
       "      <td>0.0105</td>\n",
       "    </tr>\n",
       "    <tr>\n",
       "      <th>1</th>\n",
       "      <td>2</td>\n",
       "      <td>17-08-2020</td>\n",
       "      <td>1362605575</td>\n",
       "      <td>1000</td>\n",
       "      <td>Desktop</td>\n",
       "      <td>1</td>\n",
       "      <td>Windows 10</td>\n",
       "      <td>Chrome</td>\n",
       "      <td>300x600</td>\n",
       "      <td>CAD</td>\n",
       "      <td>2</td>\n",
       "      <td>1</td>\n",
       "      <td>0.0125</td>\n",
       "    </tr>\n",
       "    <tr>\n",
       "      <th>2</th>\n",
       "      <td>2</td>\n",
       "      <td>17-08-2020</td>\n",
       "      <td>20303819748</td>\n",
       "      <td>207</td>\n",
       "      <td>Desktop</td>\n",
       "      <td>1</td>\n",
       "      <td>Windows 7</td>\n",
       "      <td>Chrome</td>\n",
       "      <td>160x600</td>\n",
       "      <td>CAD</td>\n",
       "      <td>2</td>\n",
       "      <td>1</td>\n",
       "      <td>0.0200</td>\n",
       "    </tr>\n",
       "    <tr>\n",
       "      <th>3</th>\n",
       "      <td>2</td>\n",
       "      <td>17-08-2020</td>\n",
       "      <td>20303819748</td>\n",
       "      <td>666</td>\n",
       "      <td>Desktop</td>\n",
       "      <td>1</td>\n",
       "      <td>Windows 10</td>\n",
       "      <td>Chrome</td>\n",
       "      <td>160x600</td>\n",
       "      <td>CAD</td>\n",
       "      <td>2</td>\n",
       "      <td>1</td>\n",
       "      <td>0.0350</td>\n",
       "    </tr>\n",
       "    <tr>\n",
       "      <th>4</th>\n",
       "      <td>2</td>\n",
       "      <td>17-08-2020</td>\n",
       "      <td>20303819748</td>\n",
       "      <td>1000</td>\n",
       "      <td>Desktop</td>\n",
       "      <td>1</td>\n",
       "      <td>Windows 10</td>\n",
       "      <td>Chrome</td>\n",
       "      <td>160x600</td>\n",
       "      <td>CAD</td>\n",
       "      <td>4</td>\n",
       "      <td>1</td>\n",
       "      <td>0.0220</td>\n",
       "    </tr>\n",
       "  </tbody>\n",
       "</table>\n",
       "</div>"
      ],
      "text/plain": [
       "   Line Item ID        Date   App/URL ID  ISP or Carrier ID Device Type  \\\n",
       "0             2  17-08-2020   1.5164E+11               1000     Desktop   \n",
       "1             2  17-08-2020   1362605575               1000     Desktop   \n",
       "2             2  17-08-2020  20303819748                207     Desktop   \n",
       "3             2  17-08-2020  20303819748                666     Desktop   \n",
       "4             2  17-08-2020  20303819748               1000     Desktop   \n",
       "\n",
       "   Exchange ID Operating System Browser Creative Size Advertiser Currency  \\\n",
       "0            1        Macintosh  Chrome        728x90                 CAD   \n",
       "1            1       Windows 10  Chrome       300x600                 CAD   \n",
       "2            1        Windows 7  Chrome       160x600                 CAD   \n",
       "3            1       Windows 10  Chrome       160x600                 CAD   \n",
       "4            1       Windows 10  Chrome       160x600                 CAD   \n",
       "\n",
       "   Impressions  IO_ID     CPM  \n",
       "0            2      1  0.0105  \n",
       "1            2      1  0.0125  \n",
       "2            2      1  0.0200  \n",
       "3            2      1  0.0350  \n",
       "4            4      1  0.0220  "
      ]
     },
     "execution_count": 2,
     "metadata": {},
     "output_type": "execute_result"
    }
   ],
   "source": [
    "df = pd.read_csv(\"../data/train.csv\")\n",
    "df.head()"
   ]
  },
  {
   "cell_type": "markdown",
   "metadata": {},
   "source": [
    "## Model Training"
   ]
  },
  {
   "cell_type": "code",
   "execution_count": 3,
   "metadata": {
    "ExecuteTime": {
     "end_time": "2020-09-28T03:17:43.442749Z",
     "start_time": "2020-09-28T03:17:43.430749Z"
    },
    "code_folding": [
     0
    ]
   },
   "outputs": [],
   "source": [
    "df.columns = ['line_item_id', 'date', 'app_url_id', 'isp_or_carrier_id',\n",
    "              'device_type', 'exchange_id', 'operating_system', 'browser',\n",
    "              'creative_size', 'advertiser_currency', 'impressions', 'io_id', 'cpm']"
   ]
  },
  {
   "cell_type": "code",
   "execution_count": 4,
   "metadata": {
    "ExecuteTime": {
     "end_time": "2020-09-28T03:17:43.990785Z",
     "start_time": "2020-09-28T03:17:43.445750Z"
    },
    "code_folding": []
   },
   "outputs": [],
   "source": [
    "# Change dtype of date\n",
    "df['date'] = pd.to_datetime(df['date'], format = '%d-%m-%Y')\n",
    "# get day of week\n",
    "import datetime as dt\n",
    "df['day_of_week'] = df['date'].dt.day_name()"
   ]
  },
  {
   "cell_type": "code",
   "execution_count": 5,
   "metadata": {
    "ExecuteTime": {
     "end_time": "2020-09-28T03:17:44.410054Z",
     "start_time": "2020-09-28T03:17:43.992747Z"
    },
    "code_folding": []
   },
   "outputs": [],
   "source": [
    "# drop app/urls which are unknown, since its a very small fraction of the total data\n",
    "unknown_app_ids = df[df['app_url_id'] == 'Unknown'].index\n",
    "df.drop(unknown_app_ids, axis = 0, inplace = True)"
   ]
  },
  {
   "cell_type": "code",
   "execution_count": 6,
   "metadata": {
    "ExecuteTime": {
     "end_time": "2020-09-28T03:17:44.986825Z",
     "start_time": "2020-09-28T03:17:44.412044Z"
    },
    "code_folding": []
   },
   "outputs": [],
   "source": [
    "# convert dtype of app_url_id\n",
    "df['app_url_id'] = pd.to_numeric(df['app_url_id'])"
   ]
  },
  {
   "cell_type": "code",
   "execution_count": 7,
   "metadata": {
    "ExecuteTime": {
     "end_time": "2020-09-28T03:17:45.018532Z",
     "start_time": "2020-09-28T03:17:44.988523Z"
    }
   },
   "outputs": [
    {
     "data": {
      "text/html": [
       "<div>\n",
       "<style scoped>\n",
       "    .dataframe tbody tr th:only-of-type {\n",
       "        vertical-align: middle;\n",
       "    }\n",
       "\n",
       "    .dataframe tbody tr th {\n",
       "        vertical-align: top;\n",
       "    }\n",
       "\n",
       "    .dataframe thead th {\n",
       "        text-align: right;\n",
       "    }\n",
       "</style>\n",
       "<table border=\"1\" class=\"dataframe\">\n",
       "  <thead>\n",
       "    <tr style=\"text-align: right;\">\n",
       "      <th></th>\n",
       "      <th>line_item_id</th>\n",
       "      <th>date</th>\n",
       "      <th>app_url_id</th>\n",
       "      <th>isp_or_carrier_id</th>\n",
       "      <th>device_type</th>\n",
       "      <th>exchange_id</th>\n",
       "      <th>operating_system</th>\n",
       "      <th>browser</th>\n",
       "      <th>creative_size</th>\n",
       "      <th>advertiser_currency</th>\n",
       "      <th>impressions</th>\n",
       "      <th>io_id</th>\n",
       "      <th>cpm</th>\n",
       "      <th>day_of_week</th>\n",
       "    </tr>\n",
       "  </thead>\n",
       "  <tbody>\n",
       "    <tr>\n",
       "      <th>0</th>\n",
       "      <td>2</td>\n",
       "      <td>2020-08-17</td>\n",
       "      <td>1.516400e+11</td>\n",
       "      <td>1000</td>\n",
       "      <td>Desktop</td>\n",
       "      <td>1</td>\n",
       "      <td>Macintosh</td>\n",
       "      <td>Chrome</td>\n",
       "      <td>728x90</td>\n",
       "      <td>CAD</td>\n",
       "      <td>2</td>\n",
       "      <td>1</td>\n",
       "      <td>0.0105</td>\n",
       "      <td>Monday</td>\n",
       "    </tr>\n",
       "    <tr>\n",
       "      <th>1</th>\n",
       "      <td>2</td>\n",
       "      <td>2020-08-17</td>\n",
       "      <td>1.362606e+09</td>\n",
       "      <td>1000</td>\n",
       "      <td>Desktop</td>\n",
       "      <td>1</td>\n",
       "      <td>Windows 10</td>\n",
       "      <td>Chrome</td>\n",
       "      <td>300x600</td>\n",
       "      <td>CAD</td>\n",
       "      <td>2</td>\n",
       "      <td>1</td>\n",
       "      <td>0.0125</td>\n",
       "      <td>Monday</td>\n",
       "    </tr>\n",
       "    <tr>\n",
       "      <th>2</th>\n",
       "      <td>2</td>\n",
       "      <td>2020-08-17</td>\n",
       "      <td>2.030382e+10</td>\n",
       "      <td>207</td>\n",
       "      <td>Desktop</td>\n",
       "      <td>1</td>\n",
       "      <td>Windows 7</td>\n",
       "      <td>Chrome</td>\n",
       "      <td>160x600</td>\n",
       "      <td>CAD</td>\n",
       "      <td>2</td>\n",
       "      <td>1</td>\n",
       "      <td>0.0200</td>\n",
       "      <td>Monday</td>\n",
       "    </tr>\n",
       "    <tr>\n",
       "      <th>3</th>\n",
       "      <td>2</td>\n",
       "      <td>2020-08-17</td>\n",
       "      <td>2.030382e+10</td>\n",
       "      <td>666</td>\n",
       "      <td>Desktop</td>\n",
       "      <td>1</td>\n",
       "      <td>Windows 10</td>\n",
       "      <td>Chrome</td>\n",
       "      <td>160x600</td>\n",
       "      <td>CAD</td>\n",
       "      <td>2</td>\n",
       "      <td>1</td>\n",
       "      <td>0.0350</td>\n",
       "      <td>Monday</td>\n",
       "    </tr>\n",
       "    <tr>\n",
       "      <th>4</th>\n",
       "      <td>2</td>\n",
       "      <td>2020-08-17</td>\n",
       "      <td>2.030382e+10</td>\n",
       "      <td>1000</td>\n",
       "      <td>Desktop</td>\n",
       "      <td>1</td>\n",
       "      <td>Windows 10</td>\n",
       "      <td>Chrome</td>\n",
       "      <td>160x600</td>\n",
       "      <td>CAD</td>\n",
       "      <td>4</td>\n",
       "      <td>1</td>\n",
       "      <td>0.0220</td>\n",
       "      <td>Monday</td>\n",
       "    </tr>\n",
       "  </tbody>\n",
       "</table>\n",
       "</div>"
      ],
      "text/plain": [
       "   line_item_id       date    app_url_id  isp_or_carrier_id device_type  \\\n",
       "0             2 2020-08-17  1.516400e+11               1000     Desktop   \n",
       "1             2 2020-08-17  1.362606e+09               1000     Desktop   \n",
       "2             2 2020-08-17  2.030382e+10                207     Desktop   \n",
       "3             2 2020-08-17  2.030382e+10                666     Desktop   \n",
       "4             2 2020-08-17  2.030382e+10               1000     Desktop   \n",
       "\n",
       "   exchange_id operating_system browser creative_size advertiser_currency  \\\n",
       "0            1        Macintosh  Chrome        728x90                 CAD   \n",
       "1            1       Windows 10  Chrome       300x600                 CAD   \n",
       "2            1        Windows 7  Chrome       160x600                 CAD   \n",
       "3            1       Windows 10  Chrome       160x600                 CAD   \n",
       "4            1       Windows 10  Chrome       160x600                 CAD   \n",
       "\n",
       "   impressions  io_id     cpm day_of_week  \n",
       "0            2      1  0.0105      Monday  \n",
       "1            2      1  0.0125      Monday  \n",
       "2            2      1  0.0200      Monday  \n",
       "3            2      1  0.0350      Monday  \n",
       "4            4      1  0.0220      Monday  "
      ]
     },
     "execution_count": 7,
     "metadata": {},
     "output_type": "execute_result"
    }
   ],
   "source": [
    "df.head()"
   ]
  },
  {
   "cell_type": "markdown",
   "metadata": {},
   "source": [
    "### Feature Scaling is not required because splitting of the nodes takes place on a single feature, so scale doesnt matter"
   ]
  },
  {
   "cell_type": "markdown",
   "metadata": {},
   "source": [
    "### Encoder Techniques"
   ]
  },
  {
   "cell_type": "markdown",
   "metadata": {},
   "source": [
    "    - Try l1,l2 regularization\n",
    "    - try catboost in lightgbm\n",
    "    - track R2, adjusted R2, RMSE.\n",
    "    - Once encoding is fixed, Try NN."
   ]
  },
  {
   "cell_type": "markdown",
   "metadata": {
    "heading_collapsed": true
   },
   "source": [
    "#### Target Encoding\n",
    "    Target Encoding is a bad choice here because it leaks the target\n",
    "    variable's information into the training data. I am not going to use this"
   ]
  },
  {
   "cell_type": "code",
   "execution_count": null,
   "metadata": {
    "ExecuteTime": {
     "end_time": "2020-09-26T18:39:58.261815Z",
     "start_time": "2020-09-26T18:39:52.556769Z"
    },
    "code_folding": [],
    "deletable": false,
    "editable": false,
    "hidden": true,
    "run_control": {
     "frozen": true
    }
   },
   "outputs": [],
   "source": [
    "#def target_encoder(df_temp, target, categorical, encoder):\n",
    "# Target Encoding\n",
    "# Make a copy of original dataset\n",
    "df_temp = df.copy()\n",
    "df_temp.drop(['line_item_id', 'io_id'], axis = 1, inplace = True)\n",
    "\n",
    "categorical = ['app_url_id', 'device_type', 'operating_system', \n",
    "               'browser','creative_size', 'advertiser_currency','day_of_week']\n",
    "\n",
    "\n",
    "enc = ce.TargetEncoder(cols = categorical)\n",
    "\n",
    "# fit and transform\n",
    "encoded_cols = enc.fit_transform(df_temp[categorical], df_temp['cpm'])\n",
    "\n",
    "# merge encoded columns with dataset\n",
    "df_temp[list(encoded_cols)] = encoded_cols\n",
    "\n",
    "df_temp.head()"
   ]
  },
  {
   "cell_type": "markdown",
   "metadata": {},
   "source": [
    "#### OneHotEncoder"
   ]
  },
  {
   "cell_type": "code",
   "execution_count": 8,
   "metadata": {
    "ExecuteTime": {
     "end_time": "2020-09-28T03:17:48.014589Z",
     "start_time": "2020-09-28T03:17:45.020522Z"
    },
    "scrolled": true
   },
   "outputs": [
    {
     "data": {
      "text/html": [
       "<div>\n",
       "<style scoped>\n",
       "    .dataframe tbody tr th:only-of-type {\n",
       "        vertical-align: middle;\n",
       "    }\n",
       "\n",
       "    .dataframe tbody tr th {\n",
       "        vertical-align: top;\n",
       "    }\n",
       "\n",
       "    .dataframe thead th {\n",
       "        text-align: right;\n",
       "    }\n",
       "</style>\n",
       "<table border=\"1\" class=\"dataframe\">\n",
       "  <thead>\n",
       "    <tr style=\"text-align: right;\">\n",
       "      <th></th>\n",
       "      <th>line_item_id</th>\n",
       "      <th>date</th>\n",
       "      <th>app_url_id</th>\n",
       "      <th>isp_or_carrier_id</th>\n",
       "      <th>exchange_id</th>\n",
       "      <th>operating_system</th>\n",
       "      <th>browser</th>\n",
       "      <th>creative_size</th>\n",
       "      <th>advertiser_currency</th>\n",
       "      <th>impressions</th>\n",
       "      <th>...</th>\n",
       "      <th>device_type_2</th>\n",
       "      <th>device_type_3</th>\n",
       "      <th>device_type_4</th>\n",
       "      <th>day_of_week_1</th>\n",
       "      <th>day_of_week_2</th>\n",
       "      <th>day_of_week_3</th>\n",
       "      <th>day_of_week_4</th>\n",
       "      <th>day_of_week_5</th>\n",
       "      <th>day_of_week_6</th>\n",
       "      <th>day_of_week_7</th>\n",
       "    </tr>\n",
       "  </thead>\n",
       "  <tbody>\n",
       "    <tr>\n",
       "      <th>0</th>\n",
       "      <td>2</td>\n",
       "      <td>2020-08-17</td>\n",
       "      <td>1.516400e+11</td>\n",
       "      <td>1000</td>\n",
       "      <td>1</td>\n",
       "      <td>Macintosh</td>\n",
       "      <td>Chrome</td>\n",
       "      <td>728x90</td>\n",
       "      <td>CAD</td>\n",
       "      <td>2</td>\n",
       "      <td>...</td>\n",
       "      <td>0</td>\n",
       "      <td>0</td>\n",
       "      <td>0</td>\n",
       "      <td>1</td>\n",
       "      <td>0</td>\n",
       "      <td>0</td>\n",
       "      <td>0</td>\n",
       "      <td>0</td>\n",
       "      <td>0</td>\n",
       "      <td>0</td>\n",
       "    </tr>\n",
       "    <tr>\n",
       "      <th>1</th>\n",
       "      <td>2</td>\n",
       "      <td>2020-08-17</td>\n",
       "      <td>1.362606e+09</td>\n",
       "      <td>1000</td>\n",
       "      <td>1</td>\n",
       "      <td>Windows 10</td>\n",
       "      <td>Chrome</td>\n",
       "      <td>300x600</td>\n",
       "      <td>CAD</td>\n",
       "      <td>2</td>\n",
       "      <td>...</td>\n",
       "      <td>0</td>\n",
       "      <td>0</td>\n",
       "      <td>0</td>\n",
       "      <td>1</td>\n",
       "      <td>0</td>\n",
       "      <td>0</td>\n",
       "      <td>0</td>\n",
       "      <td>0</td>\n",
       "      <td>0</td>\n",
       "      <td>0</td>\n",
       "    </tr>\n",
       "    <tr>\n",
       "      <th>2</th>\n",
       "      <td>2</td>\n",
       "      <td>2020-08-17</td>\n",
       "      <td>2.030382e+10</td>\n",
       "      <td>207</td>\n",
       "      <td>1</td>\n",
       "      <td>Windows 7</td>\n",
       "      <td>Chrome</td>\n",
       "      <td>160x600</td>\n",
       "      <td>CAD</td>\n",
       "      <td>2</td>\n",
       "      <td>...</td>\n",
       "      <td>0</td>\n",
       "      <td>0</td>\n",
       "      <td>0</td>\n",
       "      <td>1</td>\n",
       "      <td>0</td>\n",
       "      <td>0</td>\n",
       "      <td>0</td>\n",
       "      <td>0</td>\n",
       "      <td>0</td>\n",
       "      <td>0</td>\n",
       "    </tr>\n",
       "    <tr>\n",
       "      <th>3</th>\n",
       "      <td>2</td>\n",
       "      <td>2020-08-17</td>\n",
       "      <td>2.030382e+10</td>\n",
       "      <td>666</td>\n",
       "      <td>1</td>\n",
       "      <td>Windows 10</td>\n",
       "      <td>Chrome</td>\n",
       "      <td>160x600</td>\n",
       "      <td>CAD</td>\n",
       "      <td>2</td>\n",
       "      <td>...</td>\n",
       "      <td>0</td>\n",
       "      <td>0</td>\n",
       "      <td>0</td>\n",
       "      <td>1</td>\n",
       "      <td>0</td>\n",
       "      <td>0</td>\n",
       "      <td>0</td>\n",
       "      <td>0</td>\n",
       "      <td>0</td>\n",
       "      <td>0</td>\n",
       "    </tr>\n",
       "    <tr>\n",
       "      <th>4</th>\n",
       "      <td>2</td>\n",
       "      <td>2020-08-17</td>\n",
       "      <td>2.030382e+10</td>\n",
       "      <td>1000</td>\n",
       "      <td>1</td>\n",
       "      <td>Windows 10</td>\n",
       "      <td>Chrome</td>\n",
       "      <td>160x600</td>\n",
       "      <td>CAD</td>\n",
       "      <td>4</td>\n",
       "      <td>...</td>\n",
       "      <td>0</td>\n",
       "      <td>0</td>\n",
       "      <td>0</td>\n",
       "      <td>1</td>\n",
       "      <td>0</td>\n",
       "      <td>0</td>\n",
       "      <td>0</td>\n",
       "      <td>0</td>\n",
       "      <td>0</td>\n",
       "      <td>0</td>\n",
       "    </tr>\n",
       "  </tbody>\n",
       "</table>\n",
       "<p>5 rows × 23 columns</p>\n",
       "</div>"
      ],
      "text/plain": [
       "   line_item_id       date    app_url_id  isp_or_carrier_id  exchange_id  \\\n",
       "0             2 2020-08-17  1.516400e+11               1000            1   \n",
       "1             2 2020-08-17  1.362606e+09               1000            1   \n",
       "2             2 2020-08-17  2.030382e+10                207            1   \n",
       "3             2 2020-08-17  2.030382e+10                666            1   \n",
       "4             2 2020-08-17  2.030382e+10               1000            1   \n",
       "\n",
       "  operating_system browser creative_size advertiser_currency  impressions  \\\n",
       "0        Macintosh  Chrome        728x90                 CAD            2   \n",
       "1       Windows 10  Chrome       300x600                 CAD            2   \n",
       "2        Windows 7  Chrome       160x600                 CAD            2   \n",
       "3       Windows 10  Chrome       160x600                 CAD            2   \n",
       "4       Windows 10  Chrome       160x600                 CAD            4   \n",
       "\n",
       "   ...  device_type_2  device_type_3  device_type_4  day_of_week_1  \\\n",
       "0  ...              0              0              0              1   \n",
       "1  ...              0              0              0              1   \n",
       "2  ...              0              0              0              1   \n",
       "3  ...              0              0              0              1   \n",
       "4  ...              0              0              0              1   \n",
       "\n",
       "   day_of_week_2  day_of_week_3  day_of_week_4  day_of_week_5  day_of_week_6  \\\n",
       "0              0              0              0              0              0   \n",
       "1              0              0              0              0              0   \n",
       "2              0              0              0              0              0   \n",
       "3              0              0              0              0              0   \n",
       "4              0              0              0              0              0   \n",
       "\n",
       "   day_of_week_7  \n",
       "0              0  \n",
       "1              0  \n",
       "2              0  \n",
       "3              0  \n",
       "4              0  \n",
       "\n",
       "[5 rows x 23 columns]"
      ]
     },
     "execution_count": 8,
     "metadata": {},
     "output_type": "execute_result"
    }
   ],
   "source": [
    "from category_encoders import OneHotEncoder\n",
    "df_temp = df.copy()\n",
    "#df_temp.drop(['line_item_id', 'io_id'], axis = 1, inplace = True)\n",
    "\n",
    "features = ['device_type', 'day_of_week']\n",
    "ohe_encoder = OneHotEncoder(features, )\n",
    "ohe_encoded_columns = ohe_encoder.fit_transform(df_temp[features], df_temp['cpm'])\n",
    "df_temp[list(ohe_encoded_columns)] = ohe_encoded_columns\n",
    "df_temp.drop(features, axis = 1, inplace = True)\n",
    "df_temp.head()"
   ]
  },
  {
   "cell_type": "markdown",
   "metadata": {},
   "source": [
    "#### CatBoost Encoder\n",
    "    - Supported for continuous targets\n",
    "    - training data must be randomly permutated"
   ]
  },
  {
   "cell_type": "code",
   "execution_count": 9,
   "metadata": {
    "ExecuteTime": {
     "end_time": "2020-09-28T03:18:00.562439Z",
     "start_time": "2020-09-28T03:17:48.019527Z"
    },
    "code_folding": [],
    "scrolled": false
   },
   "outputs": [
    {
     "name": "stdout",
     "output_type": "stream",
     "text": [
      "<class 'pandas.core.frame.DataFrame'>\n",
      "RangeIndex: 1391924 entries, 0 to 1391923\n",
      "Data columns (total 23 columns):\n",
      " #   Column               Non-Null Count    Dtype         \n",
      "---  ------               --------------    -----         \n",
      " 0   line_item_id         1391924 non-null  int64         \n",
      " 1   date                 1391924 non-null  datetime64[ns]\n",
      " 2   app_url_id           1391924 non-null  float64       \n",
      " 3   isp_or_carrier_id    1391924 non-null  int64         \n",
      " 4   exchange_id          1391924 non-null  int64         \n",
      " 5   operating_system     1391924 non-null  float64       \n",
      " 6   browser              1391924 non-null  float64       \n",
      " 7   creative_size        1391924 non-null  float64       \n",
      " 8   advertiser_currency  1391924 non-null  float64       \n",
      " 9   impressions          1391924 non-null  int64         \n",
      " 10  io_id                1391924 non-null  int64         \n",
      " 11  cpm                  1391924 non-null  float64       \n",
      " 12  device_type_1        1391924 non-null  int64         \n",
      " 13  device_type_2        1391924 non-null  int64         \n",
      " 14  device_type_3        1391924 non-null  int64         \n",
      " 15  device_type_4        1391924 non-null  int64         \n",
      " 16  day_of_week_1        1391924 non-null  int64         \n",
      " 17  day_of_week_2        1391924 non-null  int64         \n",
      " 18  day_of_week_3        1391924 non-null  int64         \n",
      " 19  day_of_week_4        1391924 non-null  int64         \n",
      " 20  day_of_week_5        1391924 non-null  int64         \n",
      " 21  day_of_week_6        1391924 non-null  int64         \n",
      " 22  day_of_week_7        1391924 non-null  int64         \n",
      "dtypes: datetime64[ns](1), float64(6), int64(16)\n",
      "memory usage: 244.2 MB\n"
     ]
    }
   ],
   "source": [
    "#def catboost(df_temp, categorical, target, encoder):\n",
    "from category_encoders import CatBoostEncoder\n",
    "import category_encoders as ce\n",
    "\n",
    "# Make a copy of original dataset\n",
    "#df_temp = df.copy()\n",
    "#df_temp.drop(['line_item_id', 'io_id'], axis = 1, inplace = True)\n",
    "\n",
    "# Random permutation \n",
    "np.random.seed(100)\n",
    "perm = np.random.permutation(len(df_temp)) \n",
    "df_temp = df_temp.iloc[perm].reset_index(drop = True)\n",
    "#target = df_temp['cpm']\n",
    "\n",
    "#df_temp.drop('cpm', axis = 1, inplace = True)\n",
    "\n",
    "# CatBoostEncoder\n",
    "categorical = ['app_url_id', 'operating_system',\n",
    "               'browser','creative_size', 'advertiser_currency']\n",
    "enc = CatBoostEncoder(cols = categorical, )\n",
    "\n",
    "# fit and transform\n",
    "cat_boost_encoded_cols = enc.fit_transform(df_temp[categorical], df_temp['cpm'])\n",
    "\n",
    "# Merge encoded columns with original \n",
    "df_temp[list(cat_boost_encoded_cols)] = cat_boost_encoded_cols\n",
    "\n",
    "#df_temp['cpm'] = target\n",
    "\n",
    "df_temp.info()"
   ]
  },
  {
   "cell_type": "markdown",
   "metadata": {
    "deletable": false,
    "editable": false,
    "run_control": {
     "frozen": true
    }
   },
   "source": [
    "#### JamesStein Encoder"
   ]
  },
  {
   "cell_type": "code",
   "execution_count": null,
   "metadata": {
    "ExecuteTime": {
     "end_time": "2020-09-28T02:35:33.195081Z",
     "start_time": "2020-09-28T02:35:29.868582Z"
    },
    "deletable": false,
    "editable": false,
    "run_control": {
     "frozen": true
    }
   },
   "outputs": [],
   "source": [
    "from category_encoders import JamesSteinEncoder\n",
    "# Make a copy of original dataset\n",
    "#df_temp = df.copy()\n",
    "#df_temp.drop(['line_item_id', 'io_id'], axis = 1, inplace = True)\n",
    "\n",
    "# Random permutation \n",
    "#perm = np.random.permutation(len(df_temp)) \n",
    "#X = X.iloc[perm].reset_index(drop=True) \n",
    "#y = y.iloc[perm].reset_index(drop=True)\n",
    "#df_temp = df_temp.iloc[perm].reset_index(drop = True)\n",
    "\n",
    "# CatBoostEncoder\n",
    "categorical = ['app_url_id', 'operating_system',\n",
    "               'browser','creative_size', 'advertiser_currency']\n",
    "\n",
    "js_enc = JamesSteinEncoder(cols = categorical, \n",
    "                           randomized=True, \n",
    "                           random_state=10)\n",
    "\n",
    "# fit and transform\n",
    "js_encoded_cols = js_enc.fit_transform(df_temp[categorical], df_temp['cpm'])\n",
    "# Merge encoded columns with original \n",
    "df_temp[list(js_encoded_cols)] = js_encoded_cols\n",
    "df_temp.head()"
   ]
  },
  {
   "cell_type": "code",
   "execution_count": 10,
   "metadata": {
    "ExecuteTime": {
     "end_time": "2020-09-28T03:18:00.671675Z",
     "start_time": "2020-09-28T03:18:00.563391Z"
    }
   },
   "outputs": [
    {
     "name": "stdout",
     "output_type": "stream",
     "text": [
      "<class 'pandas.core.frame.DataFrame'>\n",
      "RangeIndex: 1391924 entries, 0 to 1391923\n",
      "Data columns (total 23 columns):\n",
      " #   Column               Non-Null Count    Dtype         \n",
      "---  ------               --------------    -----         \n",
      " 0   line_item_id         1391924 non-null  int64         \n",
      " 1   date                 1391924 non-null  datetime64[ns]\n",
      " 2   app_url_id           1391924 non-null  float64       \n",
      " 3   isp_or_carrier_id    1391924 non-null  int64         \n",
      " 4   exchange_id          1391924 non-null  int64         \n",
      " 5   operating_system     1391924 non-null  float64       \n",
      " 6   browser              1391924 non-null  float64       \n",
      " 7   creative_size        1391924 non-null  float64       \n",
      " 8   advertiser_currency  1391924 non-null  float64       \n",
      " 9   impressions          1391924 non-null  int64         \n",
      " 10  io_id                1391924 non-null  int64         \n",
      " 11  cpm                  1391924 non-null  float64       \n",
      " 12  device_type_1        1391924 non-null  int64         \n",
      " 13  device_type_2        1391924 non-null  int64         \n",
      " 14  device_type_3        1391924 non-null  int64         \n",
      " 15  device_type_4        1391924 non-null  int64         \n",
      " 16  day_of_week_1        1391924 non-null  int64         \n",
      " 17  day_of_week_2        1391924 non-null  int64         \n",
      " 18  day_of_week_3        1391924 non-null  int64         \n",
      " 19  day_of_week_4        1391924 non-null  int64         \n",
      " 20  day_of_week_5        1391924 non-null  int64         \n",
      " 21  day_of_week_6        1391924 non-null  int64         \n",
      " 22  day_of_week_7        1391924 non-null  int64         \n",
      "dtypes: datetime64[ns](1), float64(6), int64(16)\n",
      "memory usage: 244.2 MB\n"
     ]
    }
   ],
   "source": [
    "df_temp.info()"
   ]
  },
  {
   "cell_type": "markdown",
   "metadata": {
    "deletable": false,
    "editable": false,
    "run_control": {
     "frozen": true
    }
   },
   "source": [
    "### Train-test split\n",
    "    Take the last available date as test data"
   ]
  },
  {
   "cell_type": "code",
   "execution_count": 11,
   "metadata": {
    "ExecuteTime": {
     "end_time": "2020-09-28T03:18:00.702389Z",
     "start_time": "2020-09-28T03:18:00.673388Z"
    },
    "scrolled": true
   },
   "outputs": [
    {
     "data": {
      "text/html": [
       "<div>\n",
       "<style scoped>\n",
       "    .dataframe tbody tr th:only-of-type {\n",
       "        vertical-align: middle;\n",
       "    }\n",
       "\n",
       "    .dataframe tbody tr th {\n",
       "        vertical-align: top;\n",
       "    }\n",
       "\n",
       "    .dataframe thead th {\n",
       "        text-align: right;\n",
       "    }\n",
       "</style>\n",
       "<table border=\"1\" class=\"dataframe\">\n",
       "  <thead>\n",
       "    <tr style=\"text-align: right;\">\n",
       "      <th></th>\n",
       "      <th>line_item_id</th>\n",
       "      <th>date</th>\n",
       "      <th>app_url_id</th>\n",
       "      <th>isp_or_carrier_id</th>\n",
       "      <th>exchange_id</th>\n",
       "      <th>operating_system</th>\n",
       "      <th>browser</th>\n",
       "      <th>creative_size</th>\n",
       "      <th>advertiser_currency</th>\n",
       "      <th>impressions</th>\n",
       "      <th>...</th>\n",
       "      <th>device_type_2</th>\n",
       "      <th>device_type_3</th>\n",
       "      <th>device_type_4</th>\n",
       "      <th>day_of_week_1</th>\n",
       "      <th>day_of_week_2</th>\n",
       "      <th>day_of_week_3</th>\n",
       "      <th>day_of_week_4</th>\n",
       "      <th>day_of_week_5</th>\n",
       "      <th>day_of_week_6</th>\n",
       "      <th>day_of_week_7</th>\n",
       "    </tr>\n",
       "  </thead>\n",
       "  <tbody>\n",
       "    <tr>\n",
       "      <th>0</th>\n",
       "      <td>35</td>\n",
       "      <td>2020-08-17</td>\n",
       "      <td>2.10074</td>\n",
       "      <td>9</td>\n",
       "      <td>1</td>\n",
       "      <td>2.10074</td>\n",
       "      <td>2.10074</td>\n",
       "      <td>2.10074</td>\n",
       "      <td>2.10074</td>\n",
       "      <td>2</td>\n",
       "      <td>...</td>\n",
       "      <td>1</td>\n",
       "      <td>0</td>\n",
       "      <td>0</td>\n",
       "      <td>1</td>\n",
       "      <td>0</td>\n",
       "      <td>0</td>\n",
       "      <td>0</td>\n",
       "      <td>0</td>\n",
       "      <td>0</td>\n",
       "      <td>0</td>\n",
       "    </tr>\n",
       "    <tr>\n",
       "      <th>1</th>\n",
       "      <td>22</td>\n",
       "      <td>2020-08-27</td>\n",
       "      <td>2.10074</td>\n",
       "      <td>330</td>\n",
       "      <td>1</td>\n",
       "      <td>1.34787</td>\n",
       "      <td>1.34787</td>\n",
       "      <td>1.34787</td>\n",
       "      <td>1.34787</td>\n",
       "      <td>3</td>\n",
       "      <td>...</td>\n",
       "      <td>1</td>\n",
       "      <td>0</td>\n",
       "      <td>0</td>\n",
       "      <td>0</td>\n",
       "      <td>0</td>\n",
       "      <td>0</td>\n",
       "      <td>1</td>\n",
       "      <td>0</td>\n",
       "      <td>0</td>\n",
       "      <td>0</td>\n",
       "    </tr>\n",
       "    <tr>\n",
       "      <th>2</th>\n",
       "      <td>24</td>\n",
       "      <td>2020-08-22</td>\n",
       "      <td>2.10074</td>\n",
       "      <td>38</td>\n",
       "      <td>1</td>\n",
       "      <td>2.10074</td>\n",
       "      <td>2.10074</td>\n",
       "      <td>2.10074</td>\n",
       "      <td>2.10074</td>\n",
       "      <td>1</td>\n",
       "      <td>...</td>\n",
       "      <td>1</td>\n",
       "      <td>0</td>\n",
       "      <td>0</td>\n",
       "      <td>0</td>\n",
       "      <td>0</td>\n",
       "      <td>0</td>\n",
       "      <td>0</td>\n",
       "      <td>0</td>\n",
       "      <td>1</td>\n",
       "      <td>0</td>\n",
       "    </tr>\n",
       "    <tr>\n",
       "      <th>3</th>\n",
       "      <td>31</td>\n",
       "      <td>2020-08-19</td>\n",
       "      <td>2.10074</td>\n",
       "      <td>266</td>\n",
       "      <td>1</td>\n",
       "      <td>2.10074</td>\n",
       "      <td>1.13158</td>\n",
       "      <td>2.10074</td>\n",
       "      <td>1.13158</td>\n",
       "      <td>1</td>\n",
       "      <td>...</td>\n",
       "      <td>0</td>\n",
       "      <td>0</td>\n",
       "      <td>1</td>\n",
       "      <td>0</td>\n",
       "      <td>0</td>\n",
       "      <td>1</td>\n",
       "      <td>0</td>\n",
       "      <td>0</td>\n",
       "      <td>0</td>\n",
       "      <td>0</td>\n",
       "    </tr>\n",
       "    <tr>\n",
       "      <th>4</th>\n",
       "      <td>4</td>\n",
       "      <td>2020-08-22</td>\n",
       "      <td>2.10074</td>\n",
       "      <td>673</td>\n",
       "      <td>8</td>\n",
       "      <td>2.10074</td>\n",
       "      <td>2.10074</td>\n",
       "      <td>1.50387</td>\n",
       "      <td>2.10074</td>\n",
       "      <td>1</td>\n",
       "      <td>...</td>\n",
       "      <td>0</td>\n",
       "      <td>0</td>\n",
       "      <td>0</td>\n",
       "      <td>0</td>\n",
       "      <td>0</td>\n",
       "      <td>0</td>\n",
       "      <td>0</td>\n",
       "      <td>0</td>\n",
       "      <td>1</td>\n",
       "      <td>0</td>\n",
       "    </tr>\n",
       "  </tbody>\n",
       "</table>\n",
       "<p>5 rows × 23 columns</p>\n",
       "</div>"
      ],
      "text/plain": [
       "   line_item_id       date  app_url_id  isp_or_carrier_id  exchange_id  \\\n",
       "0            35 2020-08-17     2.10074                  9            1   \n",
       "1            22 2020-08-27     2.10074                330            1   \n",
       "2            24 2020-08-22     2.10074                 38            1   \n",
       "3            31 2020-08-19     2.10074                266            1   \n",
       "4             4 2020-08-22     2.10074                673            8   \n",
       "\n",
       "   operating_system  browser  creative_size  advertiser_currency  impressions  \\\n",
       "0           2.10074  2.10074        2.10074              2.10074            2   \n",
       "1           1.34787  1.34787        1.34787              1.34787            3   \n",
       "2           2.10074  2.10074        2.10074              2.10074            1   \n",
       "3           2.10074  1.13158        2.10074              1.13158            1   \n",
       "4           2.10074  2.10074        1.50387              2.10074            1   \n",
       "\n",
       "   ...  device_type_2  device_type_3  device_type_4  day_of_week_1  \\\n",
       "0  ...              1              0              0              1   \n",
       "1  ...              1              0              0              0   \n",
       "2  ...              1              0              0              0   \n",
       "3  ...              0              0              1              0   \n",
       "4  ...              0              0              0              0   \n",
       "\n",
       "   day_of_week_2  day_of_week_3  day_of_week_4  day_of_week_5  day_of_week_6  \\\n",
       "0              0              0              0              0              0   \n",
       "1              0              0              1              0              0   \n",
       "2              0              0              0              0              1   \n",
       "3              0              1              0              0              0   \n",
       "4              0              0              0              0              1   \n",
       "\n",
       "   day_of_week_7  \n",
       "0              0  \n",
       "1              0  \n",
       "2              0  \n",
       "3              0  \n",
       "4              0  \n",
       "\n",
       "[5 rows x 23 columns]"
      ]
     },
     "execution_count": 11,
     "metadata": {},
     "output_type": "execute_result"
    }
   ],
   "source": [
    "df_temp.head()"
   ]
  },
  {
   "cell_type": "code",
   "execution_count": 12,
   "metadata": {
    "ExecuteTime": {
     "end_time": "2020-09-28T03:18:02.173695Z",
     "start_time": "2020-09-28T03:18:00.704390Z"
    }
   },
   "outputs": [
    {
     "name": "stdout",
     "output_type": "stream",
     "text": [
      "(1113539, 21)\n",
      "(278385, 21)\n"
     ]
    }
   ],
   "source": [
    "from sklearn.model_selection import train_test_split\n",
    "\n",
    "df_temp.drop('date', axis = 1, inplace = True)\n",
    "\n",
    "X_train, X_test, y_train, y_test = train_test_split(df_temp.drop('cpm', axis = 1),\n",
    "                                                    df_temp['cpm'],                                                   \n",
    "                                                    test_size = 0.2,\n",
    "                                                    random_state = 100,\n",
    "                                                    stratify = df_temp['io_id'])\n",
    "print(X_train.shape)\n",
    "print(X_test.shape)"
   ]
  },
  {
   "cell_type": "code",
   "execution_count": 16,
   "metadata": {
    "ExecuteTime": {
     "end_time": "2020-09-28T03:57:01.508411Z",
     "start_time": "2020-09-28T03:57:01.454401Z"
    }
   },
   "outputs": [
    {
     "data": {
      "text/plain": [
       "count    1.113539e+06\n",
       "mean     2.105068e+00\n",
       "std      6.165077e+00\n",
       "min      7.500000e-03\n",
       "25%      5.380000e-01\n",
       "50%      8.280000e-01\n",
       "75%      1.906000e+00\n",
       "max      1.000970e+02\n",
       "Name: cpm, dtype: float64"
      ]
     },
     "execution_count": 16,
     "metadata": {},
     "output_type": "execute_result"
    }
   ],
   "source": [
    "y_train.describe()"
   ]
  },
  {
   "cell_type": "code",
   "execution_count": 17,
   "metadata": {
    "ExecuteTime": {
     "end_time": "2020-09-28T03:57:22.902476Z",
     "start_time": "2020-09-28T03:57:22.875478Z"
    }
   },
   "outputs": [
    {
     "data": {
      "text/plain": [
       "count    278385.000000\n",
       "mean          2.083425\n",
       "std           6.083848\n",
       "min           0.009000\n",
       "25%           0.538000\n",
       "50%           0.829000\n",
       "75%           1.905000\n",
       "max          95.732000\n",
       "Name: cpm, dtype: float64"
      ]
     },
     "execution_count": 17,
     "metadata": {},
     "output_type": "execute_result"
    }
   ],
   "source": [
    "y_test.describe()"
   ]
  },
  {
   "cell_type": "code",
   "execution_count": null,
   "metadata": {
    "ExecuteTime": {
     "end_time": "2020-09-27T17:11:20.433612Z",
     "start_time": "2020-09-27T17:11:20.067082Z"
    },
    "code_folding": [
     0
    ],
    "deletable": false,
    "editable": false,
    "run_control": {
     "frozen": true
    }
   },
   "outputs": [],
   "source": [
    "# Take 27/08/2020 as test dataset\n",
    "df_test = df_temp[df_temp['date'] == '2020-08-27'].copy()\n",
    "df_train = df_temp.drop(df_test.index, axis = 0)\n",
    "\n",
    "# Separate train and test data into predictors and target\n",
    "df_test.drop('date', axis = 1, inplace = True)\n",
    "X_test = df_test.drop('cpm', axis = 1).to_numpy()\n",
    "y_test = df_test['cpm'].to_numpy()\n",
    "\n",
    "df_train.drop('date', axis = 1, inplace = True)\n",
    "X_train = df_train.drop('cpm', axis = 1).to_numpy()\n",
    "y_train = df_train['cpm'].to_numpy()\n",
    "\n",
    "# Shape of Train and test datasets\n",
    "print(\"X_train shape: {} \".format(X_train.shape))\n",
    "print(\"X_test shape: {}\".format(X_test.shape))\n",
    "\n",
    "del(df_temp)\n",
    "del(df_train)\n",
    "del(df_test)"
   ]
  },
  {
   "cell_type": "markdown",
   "metadata": {},
   "source": [
    "### ElasticNet regularization"
   ]
  },
  {
   "cell_type": "code",
   "execution_count": 13,
   "metadata": {
    "ExecuteTime": {
     "end_time": "2020-09-28T03:18:41.047063Z",
     "start_time": "2020-09-28T03:18:02.175390Z"
    }
   },
   "outputs": [
    {
     "name": "stdout",
     "output_type": "stream",
     "text": [
      "Optimal alpha: 0.00000197\n",
      "Optimal l1_ratio: 1.000\n",
      "Number of iterations 12\n"
     ]
    }
   ],
   "source": [
    "from sklearn.linear_model import ElasticNetCV, ElasticNet\n",
    "\n",
    "cv_model = ElasticNetCV(l1_ratio=[.1, .5, .7, .9, .95, .99, 1], \n",
    "                        eps=1e-3, n_alphas=100, fit_intercept=True, \n",
    "                        normalize=True, precompute='auto', \n",
    "                        max_iter=2000, tol=0.0001, cv=6, copy_X=True, \n",
    "                        verbose=0, n_jobs=-1, positive=False, random_state=0)\n",
    "               \n",
    "cv_model.fit(X_train, y_train)\n",
    "print('Optimal alpha: %.8f'%cv_model.alpha_)\n",
    "print('Optimal l1_ratio: %.3f'%cv_model.l1_ratio_)\n",
    "print('Number of iterations %d'%cv_model.n_iter_)"
   ]
  },
  {
   "cell_type": "markdown",
   "metadata": {},
   "source": [
    "### Training"
   ]
  },
  {
   "cell_type": "markdown",
   "metadata": {},
   "source": [
    "#### Linear Regression"
   ]
  },
  {
   "cell_type": "code",
   "execution_count": 14,
   "metadata": {
    "ExecuteTime": {
     "end_time": "2020-09-28T03:18:42.607084Z",
     "start_time": "2020-09-28T03:18:41.051061Z"
    },
    "code_folding": []
   },
   "outputs": [
    {
     "name": "stdout",
     "output_type": "stream",
     "text": [
      "Linear Regression\n",
      "Train R2 Score: 0.129\n",
      "Test R2 Score: 0.124\n",
      "Adjusted R2 train : 0.129\n",
      "Adjusted R2 test : 0.124\n",
      "MSE Test: 32.42193070431573\n",
      "MSE Train: 33.0880337814679\n"
     ]
    }
   ],
   "source": [
    "#def LR(X_train, X_test, y_train, y_test, encoder):\n",
    "#print(\"Encoder Used: {}\".format(encoder))\n",
    "\n",
    "from sklearn import linear_model\n",
    "from sklearn.metrics import mean_squared_error\n",
    "reg = linear_model.LinearRegression()\n",
    "reg.fit(X_train, y_train)\n",
    "\n",
    "# R2 Score\n",
    "\n",
    "r2_train = reg.score(X_train, y_train)\n",
    "r2_test = reg.score(X_test, y_test)\n",
    "print(\"Linear Regression\")\n",
    "print(\"Train R2 Score: {:.3f}\".format(r2_train))\n",
    "print(\"Test R2 Score: {:.3f}\".format(r2_test))\n",
    "\n",
    "# Adjusted R2\n",
    "adj_r2_train = (1-(1-r2_train) * ((X_train.shape[0] - 1)/(X_train.shape[0] - X_train.shape[1] - 1)))\n",
    "adj_r2_test = (1-(1-r2_test) * ((X_test.shape[0] - 1)/(X_test.shape[0] - X_test.shape[1] - 1)))\n",
    "print(\"Adjusted R2 train : {:.3f}\".format(adj_r2_train))\n",
    "print(\"Adjusted R2 test : {:.3f}\".format(adj_r2_test))\n",
    "\n",
    "# MSE\n",
    "mse_train = mean_squared_error(y_train, reg.predict(X_train))\n",
    "mse_test = mean_squared_error(y_test, reg.predict(X_test))\n",
    "#print(\"Linear Regression\")\n",
    "print(\"MSE Test: {}\".format(mse_test))\n",
    "print(\"MSE Train: {}\".format(mse_train))"
   ]
  },
  {
   "cell_type": "markdown",
   "metadata": {},
   "source": [
    "#### SKlearn's new HistGradientBoostingRegressor"
   ]
  },
  {
   "cell_type": "markdown",
   "metadata": {},
   "source": [
    "    try catboostRegressor - checkout categorical cols and regularization parameters\n",
    "    try lightgbm - \n",
    "    \n",
    "    Keep val set as last day data\n",
    "    hyperparameter tuning\n",
    "    see if rgularizatuin in thse\n",
    "    Do TimeSeries EDA\n",
    "    train different models for each IO_ID\n",
    "    ignore line_item altogether\n",
    "    \n",
    "    Prediction Diagnostics:\n",
    "        Plot predicted values with True values\n",
    "        Check RMSE against the 75% \n",
    "        MEA Mean ABsolute Error\n",
    "        "
   ]
  },
  {
   "cell_type": "markdown",
   "metadata": {},
   "source": []
  },
  {
   "cell_type": "code",
   "execution_count": 15,
   "metadata": {
    "ExecuteTime": {
     "end_time": "2020-09-28T03:18:59.314813Z",
     "start_time": "2020-09-28T03:18:42.609086Z"
    },
    "code_folding": [],
    "scrolled": true
   },
   "outputs": [
    {
     "name": "stdout",
     "output_type": "stream",
     "text": [
      "done in 9.823s\n",
      "HistGradientBoostingRegressor\n",
      "Train R2 Score: 0.737\n",
      "Test R2 Score: 0.731\n",
      "Adjusted R2 train : 0.737\n",
      "Adjusted R2 test : 0.731\n",
      "MSE on test: 9.967311915002247\n",
      "MSE on train: 9.984097620931681\n"
     ]
    }
   ],
   "source": [
    "#def HistGBR(X_train, X_test, y_train, y_test, encoder):\n",
    "#print(\"Encoder Used:{}\".format(encoder))\n",
    "\n",
    "from sklearn.experimental import enable_hist_gradient_boosting\n",
    "from sklearn.ensemble import HistGradientBoostingRegressor\n",
    "from time import time\n",
    "\n",
    "model = HistGradientBoostingRegressor()\n",
    "tic = time()\n",
    "model.fit(X_train, y_train)\n",
    "print(\"done in {:.3f}s\".format(time() - tic))\n",
    "\n",
    "# R2 score\n",
    "\n",
    "r2_train = model.score(X_train, y_train)\n",
    "r2_test = model.score(X_test, y_test)\n",
    "print(\"HistGradientBoostingRegressor\")\n",
    "print(\"Train R2 Score: {:.3f}\".format(r2_train))\n",
    "print(\"Test R2 Score: {:.3f}\".format(r2_test))\n",
    "\n",
    "# Adjusted R2\n",
    "adj_r2_train = (1-(1-r2_train) * ((X_train.shape[0] - 1)/(X_train.shape[0] - X_train.shape[1] - 1)))\n",
    "adj_r2_test = (1-(1-r2_test) * ((X_test.shape[0] - 1)/(X_test.shape[0] - X_test.shape[1] - 1)))\n",
    "print(\"Adjusted R2 train : {:.3f}\".format(adj_r2_train))\n",
    "print(\"Adjusted R2 test : {:.3f}\".format(adj_r2_test))\n",
    "\n",
    "# MSE\n",
    "mse_train = mean_squared_error(y_train, model.predict(X_train))\n",
    "mse_test = mean_squared_error(y_test, model.predict(X_test))\n",
    "print(\"MSE on test: {}\".format(mse_test))\n",
    "print(\"MSE on train: {}\".format(mse_train))\n",
    "\n",
    "import matplotlib.pyplot as plt\n"
   ]
  },
  {
   "cell_type": "code",
   "execution_count": 26,
   "metadata": {
    "ExecuteTime": {
     "end_time": "2020-09-28T04:05:36.263368Z",
     "start_time": "2020-09-28T04:05:35.680397Z"
    }
   },
   "outputs": [],
   "source": [
    "y_pred = model.predict(X_test)"
   ]
  },
  {
   "cell_type": "code",
   "execution_count": null,
   "metadata": {},
   "outputs": [],
   "source": []
  },
  {
   "cell_type": "code",
   "execution_count": 35,
   "metadata": {
    "ExecuteTime": {
     "end_time": "2020-09-28T04:12:00.140962Z",
     "start_time": "2020-09-28T04:12:00.006683Z"
    }
   },
   "outputs": [],
   "source": [
    "y_pred = list(y_pred)\n",
    "y_test = list(y_test)\n",
    "dict_test = {'y_pred': y_pred, 'y_test':y_test}\n",
    "\n",
    "plot_this = pd.DataFrame(dict_test)"
   ]
  },
  {
   "cell_type": "code",
   "execution_count": 37,
   "metadata": {
    "ExecuteTime": {
     "end_time": "2020-09-28T04:13:12.873055Z",
     "start_time": "2020-09-28T04:13:10.677583Z"
    }
   },
   "outputs": [
    {
     "data": {
      "text/plain": [
       "<matplotlib.axes._subplots.AxesSubplot at 0x20cc51ca388>"
      ]
     },
     "execution_count": 37,
     "metadata": {},
     "output_type": "execute_result"
    },
    {
     "data": {
      "text/plain": [
       "<Figure size 720x720 with 0 Axes>"
      ]
     },
     "metadata": {},
     "output_type": "display_data"
    },
    {
     "data": {
      "image/png": "[encoded data removed]",
      "text/plain": [
       "<Figure size 432x288 with 1 Axes>"
      ]
     },
     "metadata": {
      "needs_background": "light"
     },
     "output_type": "display_data"
    }
   ],
   "source": [
    "plt.figure(figsize=(10, 10))\n",
    "plot_this.plot.line()"
   ]
  },
  {
   "cell_type": "code",
   "execution_count": 23,
   "metadata": {
    "ExecuteTime": {
     "end_time": "2020-09-28T04:04:14.030135Z",
     "start_time": "2020-09-28T04:04:14.023136Z"
    }
   },
   "outputs": [
    {
     "data": {
      "text/plain": [
       "array([4.05994553, 1.63617921, 0.55154516, 2.04649459, 2.58104999,\n",
       "       0.3909264 , 1.10751483, 0.55753809, 2.37158863, 0.44531893])"
      ]
     },
     "execution_count": 23,
     "metadata": {},
     "output_type": "execute_result"
    }
   ],
   "source": [
    "y_pred[:10]"
   ]
  },
  {
   "cell_type": "code",
   "execution_count": 30,
   "metadata": {
    "ExecuteTime": {
     "end_time": "2020-09-28T04:08:38.743644Z",
     "start_time": "2020-09-28T04:08:38.710645Z"
    }
   },
   "outputs": [
    {
     "ename": "TypeError",
     "evalue": "Index(...) must be called with a collection of some kind, 'y_pred' was passed",
     "output_type": "error",
     "traceback": [
      "\u001b[1;31m---------------------------------------------------------------------------\u001b[0m",
      "\u001b[1;31mTypeError\u001b[0m                                 Traceback (most recent call last)",
      "\u001b[1;32m<ipython-input-30-a994cb3e0c74>\u001b[0m in \u001b[0;36m<module>\u001b[1;34m\u001b[0m\n\u001b[1;32m----> 1\u001b[1;33m \u001b[0mpred_data\u001b[0m \u001b[1;33m=\u001b[0m \u001b[0mpd\u001b[0m\u001b[1;33m.\u001b[0m\u001b[0mDataFrame\u001b[0m\u001b[1;33m(\u001b[0m\u001b[0mdata\u001b[0m \u001b[1;33m=\u001b[0m \u001b[0my_pred\u001b[0m\u001b[1;33m,\u001b[0m \u001b[0mcolumns\u001b[0m\u001b[1;33m=\u001b[0m\u001b[1;34m'y_pred'\u001b[0m\u001b[1;33m)\u001b[0m\u001b[1;33m\u001b[0m\u001b[1;33m\u001b[0m\u001b[0m\n\u001b[0m",
      "\u001b[1;32m~\\anaconda3\\lib\\site-packages\\pandas\\core\\frame.py\u001b[0m in \u001b[0;36m__init__\u001b[1;34m(self, data, index, columns, dtype, copy)\u001b[0m\n\u001b[0;32m    462\u001b[0m                 \u001b[0mmgr\u001b[0m \u001b[1;33m=\u001b[0m \u001b[0minit_dict\u001b[0m\u001b[1;33m(\u001b[0m\u001b[1;33m{\u001b[0m\u001b[0mdata\u001b[0m\u001b[1;33m.\u001b[0m\u001b[0mname\u001b[0m\u001b[1;33m:\u001b[0m \u001b[0mdata\u001b[0m\u001b[1;33m}\u001b[0m\u001b[1;33m,\u001b[0m \u001b[0mindex\u001b[0m\u001b[1;33m,\u001b[0m \u001b[0mcolumns\u001b[0m\u001b[1;33m,\u001b[0m \u001b[0mdtype\u001b[0m\u001b[1;33m=\u001b[0m\u001b[0mdtype\u001b[0m\u001b[1;33m)\u001b[0m\u001b[1;33m\u001b[0m\u001b[1;33m\u001b[0m\u001b[0m\n\u001b[0;32m    463\u001b[0m             \u001b[1;32melse\u001b[0m\u001b[1;33m:\u001b[0m\u001b[1;33m\u001b[0m\u001b[1;33m\u001b[0m\u001b[0m\n\u001b[1;32m--> 464\u001b[1;33m                 \u001b[0mmgr\u001b[0m \u001b[1;33m=\u001b[0m \u001b[0minit_ndarray\u001b[0m\u001b[1;33m(\u001b[0m\u001b[0mdata\u001b[0m\u001b[1;33m,\u001b[0m \u001b[0mindex\u001b[0m\u001b[1;33m,\u001b[0m \u001b[0mcolumns\u001b[0m\u001b[1;33m,\u001b[0m \u001b[0mdtype\u001b[0m\u001b[1;33m=\u001b[0m\u001b[0mdtype\u001b[0m\u001b[1;33m,\u001b[0m \u001b[0mcopy\u001b[0m\u001b[1;33m=\u001b[0m\u001b[0mcopy\u001b[0m\u001b[1;33m)\u001b[0m\u001b[1;33m\u001b[0m\u001b[1;33m\u001b[0m\u001b[0m\n\u001b[0m\u001b[0;32m    465\u001b[0m \u001b[1;33m\u001b[0m\u001b[0m\n\u001b[0;32m    466\u001b[0m         \u001b[1;31m# For data is list-like, or Iterable (will consume into list)\u001b[0m\u001b[1;33m\u001b[0m\u001b[1;33m\u001b[0m\u001b[1;33m\u001b[0m\u001b[0m\n",
      "\u001b[1;32m~\\anaconda3\\lib\\site-packages\\pandas\\core\\internals\\construction.py\u001b[0m in \u001b[0;36minit_ndarray\u001b[1;34m(values, index, columns, dtype, copy)\u001b[0m\n\u001b[0;32m    179\u001b[0m                 ) from orig\n\u001b[0;32m    180\u001b[0m \u001b[1;33m\u001b[0m\u001b[0m\n\u001b[1;32m--> 181\u001b[1;33m     \u001b[0mindex\u001b[0m\u001b[1;33m,\u001b[0m \u001b[0mcolumns\u001b[0m \u001b[1;33m=\u001b[0m \u001b[0m_get_axes\u001b[0m\u001b[1;33m(\u001b[0m\u001b[1;33m*\u001b[0m\u001b[0mvalues\u001b[0m\u001b[1;33m.\u001b[0m\u001b[0mshape\u001b[0m\u001b[1;33m,\u001b[0m \u001b[0mindex\u001b[0m\u001b[1;33m=\u001b[0m\u001b[0mindex\u001b[0m\u001b[1;33m,\u001b[0m \u001b[0mcolumns\u001b[0m\u001b[1;33m=\u001b[0m\u001b[0mcolumns\u001b[0m\u001b[1;33m)\u001b[0m\u001b[1;33m\u001b[0m\u001b[1;33m\u001b[0m\u001b[0m\n\u001b[0m\u001b[0;32m    182\u001b[0m     \u001b[0mvalues\u001b[0m \u001b[1;33m=\u001b[0m \u001b[0mvalues\u001b[0m\u001b[1;33m.\u001b[0m\u001b[0mT\u001b[0m\u001b[1;33m\u001b[0m\u001b[1;33m\u001b[0m\u001b[0m\n\u001b[0;32m    183\u001b[0m \u001b[1;33m\u001b[0m\u001b[0m\n",
      "\u001b[1;32m~\\anaconda3\\lib\\site-packages\\pandas\\core\\internals\\construction.py\u001b[0m in \u001b[0;36m_get_axes\u001b[1;34m(N, K, index, columns)\u001b[0m\n\u001b[0;32m    427\u001b[0m         \u001b[0mcolumns\u001b[0m \u001b[1;33m=\u001b[0m \u001b[0mibase\u001b[0m\u001b[1;33m.\u001b[0m\u001b[0mdefault_index\u001b[0m\u001b[1;33m(\u001b[0m\u001b[0mK\u001b[0m\u001b[1;33m)\u001b[0m\u001b[1;33m\u001b[0m\u001b[1;33m\u001b[0m\u001b[0m\n\u001b[0;32m    428\u001b[0m     \u001b[1;32melse\u001b[0m\u001b[1;33m:\u001b[0m\u001b[1;33m\u001b[0m\u001b[1;33m\u001b[0m\u001b[0m\n\u001b[1;32m--> 429\u001b[1;33m         \u001b[0mcolumns\u001b[0m \u001b[1;33m=\u001b[0m \u001b[0mensure_index\u001b[0m\u001b[1;33m(\u001b[0m\u001b[0mcolumns\u001b[0m\u001b[1;33m)\u001b[0m\u001b[1;33m\u001b[0m\u001b[1;33m\u001b[0m\u001b[0m\n\u001b[0m\u001b[0;32m    430\u001b[0m     \u001b[1;32mreturn\u001b[0m \u001b[0mindex\u001b[0m\u001b[1;33m,\u001b[0m \u001b[0mcolumns\u001b[0m\u001b[1;33m\u001b[0m\u001b[1;33m\u001b[0m\u001b[0m\n\u001b[0;32m    431\u001b[0m \u001b[1;33m\u001b[0m\u001b[0m\n",
      "\u001b[1;32m~\\anaconda3\\lib\\site-packages\\pandas\\core\\indexes\\base.py\u001b[0m in \u001b[0;36mensure_index\u001b[1;34m(index_like, copy)\u001b[0m\n\u001b[0;32m   5356\u001b[0m             \u001b[0mindex_like\u001b[0m \u001b[1;33m=\u001b[0m \u001b[0mcopy\u001b[0m\u001b[1;33m(\u001b[0m\u001b[0mindex_like\u001b[0m\u001b[1;33m)\u001b[0m\u001b[1;33m\u001b[0m\u001b[1;33m\u001b[0m\u001b[0m\n\u001b[0;32m   5357\u001b[0m \u001b[1;33m\u001b[0m\u001b[0m\n\u001b[1;32m-> 5358\u001b[1;33m     \u001b[1;32mreturn\u001b[0m \u001b[0mIndex\u001b[0m\u001b[1;33m(\u001b[0m\u001b[0mindex_like\u001b[0m\u001b[1;33m)\u001b[0m\u001b[1;33m\u001b[0m\u001b[1;33m\u001b[0m\u001b[0m\n\u001b[0m\u001b[0;32m   5359\u001b[0m \u001b[1;33m\u001b[0m\u001b[0m\n\u001b[0;32m   5360\u001b[0m \u001b[1;33m\u001b[0m\u001b[0m\n",
      "\u001b[1;32m~\\anaconda3\\lib\\site-packages\\pandas\\core\\indexes\\base.py\u001b[0m in \u001b[0;36m__new__\u001b[1;34m(cls, data, dtype, copy, name, tupleize_cols, **kwargs)\u001b[0m\n\u001b[0;32m    420\u001b[0m             \u001b[1;32mreturn\u001b[0m \u001b[0mIndex\u001b[0m\u001b[1;33m(\u001b[0m\u001b[0mnp\u001b[0m\u001b[1;33m.\u001b[0m\u001b[0masarray\u001b[0m\u001b[1;33m(\u001b[0m\u001b[0mdata\u001b[0m\u001b[1;33m)\u001b[0m\u001b[1;33m,\u001b[0m \u001b[0mdtype\u001b[0m\u001b[1;33m=\u001b[0m\u001b[0mdtype\u001b[0m\u001b[1;33m,\u001b[0m \u001b[0mcopy\u001b[0m\u001b[1;33m=\u001b[0m\u001b[0mcopy\u001b[0m\u001b[1;33m,\u001b[0m \u001b[0mname\u001b[0m\u001b[1;33m=\u001b[0m\u001b[0mname\u001b[0m\u001b[1;33m,\u001b[0m \u001b[1;33m**\u001b[0m\u001b[0mkwargs\u001b[0m\u001b[1;33m)\u001b[0m\u001b[1;33m\u001b[0m\u001b[1;33m\u001b[0m\u001b[0m\n\u001b[0;32m    421\u001b[0m         \u001b[1;32melif\u001b[0m \u001b[0mdata\u001b[0m \u001b[1;32mis\u001b[0m \u001b[1;32mNone\u001b[0m \u001b[1;32mor\u001b[0m \u001b[0mis_scalar\u001b[0m\u001b[1;33m(\u001b[0m\u001b[0mdata\u001b[0m\u001b[1;33m)\u001b[0m\u001b[1;33m:\u001b[0m\u001b[1;33m\u001b[0m\u001b[1;33m\u001b[0m\u001b[0m\n\u001b[1;32m--> 422\u001b[1;33m             \u001b[1;32mraise\u001b[0m \u001b[0mcls\u001b[0m\u001b[1;33m.\u001b[0m\u001b[0m_scalar_data_error\u001b[0m\u001b[1;33m(\u001b[0m\u001b[0mdata\u001b[0m\u001b[1;33m)\u001b[0m\u001b[1;33m\u001b[0m\u001b[1;33m\u001b[0m\u001b[0m\n\u001b[0m\u001b[0;32m    423\u001b[0m         \u001b[1;32melse\u001b[0m\u001b[1;33m:\u001b[0m\u001b[1;33m\u001b[0m\u001b[1;33m\u001b[0m\u001b[0m\n\u001b[0;32m    424\u001b[0m             \u001b[1;32mif\u001b[0m \u001b[0mtupleize_cols\u001b[0m \u001b[1;32mand\u001b[0m \u001b[0mis_list_like\u001b[0m\u001b[1;33m(\u001b[0m\u001b[0mdata\u001b[0m\u001b[1;33m)\u001b[0m\u001b[1;33m:\u001b[0m\u001b[1;33m\u001b[0m\u001b[1;33m\u001b[0m\u001b[0m\n",
      "\u001b[1;31mTypeError\u001b[0m: Index(...) must be called with a collection of some kind, 'y_pred' was passed"
     ]
    }
   ],
   "source": [
    "pred_data = pd.DataFrame(data = y_pred, columns='y_pred')"
   ]
  },
  {
   "cell_type": "code",
   "execution_count": null,
   "metadata": {},
   "outputs": [],
   "source": []
  },
  {
   "cell_type": "markdown",
   "metadata": {
    "deletable": false,
    "editable": false,
    "heading_collapsed": true,
    "run_control": {
     "frozen": true
    }
   },
   "source": [
    "#### GradientBoostingRegressor\n",
    "    This takes a lot more time to train, with no improvement to the score.\n",
    "    if this trend follows for a few more tests, I will drop this altogether."
   ]
  },
  {
   "cell_type": "code",
   "execution_count": null,
   "metadata": {
    "ExecuteTime": {
     "end_time": "2020-09-28T02:23:17.137466Z",
     "start_time": "2020-09-28T02:15:57.636468Z"
    },
    "code_folding": [],
    "deletable": false,
    "editable": false,
    "hidden": true,
    "run_control": {
     "frozen": true
    }
   },
   "outputs": [],
   "source": [
    "#def GBR(X_train, X_test, y_train, y_test, encoder):\n",
    "#print(\"Encoder Used: {}\".format(encoder))\n",
    "\n",
    "from sklearn.ensemble import GradientBoostingRegressor\n",
    "model = GradientBoostingRegressor().fit(X_train, y_train)\n",
    "\n",
    "# R2 Score\n",
    "r2_train = model.score(X_train, y_train)\n",
    "r2_test = model.score(X_test, y_test)\n",
    "print(\"GradientBoostingRegressor\")\n",
    "print(\"Train R2 Score: {}\".format(r2_train))\n",
    "print(\"Test R2 Score: {}\".format(r2_test))\n",
    "\n",
    "# Adjusted R2\n",
    "adj_r2_train = (1-(1-r2_train) * ((X_train.shape[0] - 1)/(X_train.shape[0] - X_train.shape[1] - 1)))\n",
    "adj_r2_test = (1-(1-r2_test) * ((X_test.shape[0] - 1)/(X_test.shape[0] - X_test.shape[1] - 1)))\n",
    "print(\"Adjusted R2 train : {:.3f}\".format(adj_r2_train))\n",
    "print(\"Adjusted R2 test : {:.3f}\".format(adj_r2_test))\n",
    "\n",
    "# MSE\n",
    "mse_train = mean_squared_error(y_train, model.predict(X_train))\n",
    "mse_test = mean_squared_error(y_test, model.predict(X_test))\n",
    "print(\"GradientBoostingRegressor\")\n",
    "print(\"MSE on test: {}\".format(mse_test))\n",
    "print(\"MSE on train: {}\".format(mse_train))"
   ]
  },
  {
   "cell_type": "markdown",
   "metadata": {
    "hidden": true
   },
   "source": [
    "    These models are definitely overfitting, choice of encoding could be one of the reason"
   ]
  }
 ],
 "metadata": {
  "kernelspec": {
   "display_name": "Python 3",
   "language": "python",
   "name": "python3"
  },
  "language_info": {
   "codemirror_mode": {
    "name": "ipython",
    "version": 3
   },
   "file_extension": ".py",
   "mimetype": "text/x-python",
   "name": "python",
   "nbconvert_exporter": "python",
   "pygments_lexer": "ipython3",
   "version": "3.7.6"
  },
  "toc": {
   "base_numbering": 1,
   "nav_menu": {},
   "number_sections": true,
   "sideBar": true,
   "skip_h1_title": false,
   "title_cell": "Table of Contents",
   "title_sidebar": "Contents",
   "toc_cell": false,
   "toc_position": {
    "height": "calc(100% - 180px)",
    "left": "10px",
    "top": "150px",
    "width": "280px"
   },
   "toc_section_display": true,
   "toc_window_display": true
  },
  "varInspector": {
   "cols": {
    "lenName": 16,
    "lenType": 16,
    "lenVar": 40
   },
   "kernels_config": {
    "python": {
     "delete_cmd_postfix": "",
     "delete_cmd_prefix": "del ",
     "library": "var_list.py",
     "varRefreshCmd": "print(var_dic_list())"
    },
    "r": {
     "delete_cmd_postfix": ") ",
     "delete_cmd_prefix": "rm(",
     "library": "var_list.r",
     "varRefreshCmd": "cat(var_dic_list()) "
    }
   },
   "types_to_exclude": [
    "module",
    "function",
    "builtin_function_or_method",
    "instance",
    "_Feature"
   ],
   "window_display": false
  }
 },
 "nbformat": 4,
 "nbformat_minor": 4
}
