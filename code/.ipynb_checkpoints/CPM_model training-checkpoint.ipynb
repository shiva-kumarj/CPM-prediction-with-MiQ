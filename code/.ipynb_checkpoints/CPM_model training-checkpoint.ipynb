{
 "cells": [
  {
   "cell_type": "markdown",
   "metadata": {},
   "source": [
    "# Base Model"
   ]
  },
  {
   "cell_type": "code",
   "execution_count": 1,
   "metadata": {
    "ExecuteTime": {
     "end_time": "2020-10-05T14:58:42.937873Z",
     "start_time": "2020-10-05T14:58:42.218962Z"
    }
   },
   "outputs": [],
   "source": [
    "import numpy as np\n",
    "import pandas as pd\n",
    "import matplotlib.pyplot as plt"
   ]
  },
  {
   "cell_type": "code",
   "execution_count": 2,
   "metadata": {
    "ExecuteTime": {
     "end_time": "2020-10-05T14:58:44.655842Z",
     "start_time": "2020-10-05T14:58:42.939440Z"
    },
    "scrolled": true
   },
   "outputs": [
    {
     "data": {
      "text/html": [
       "<div>\n",
       "<style scoped>\n",
       "    .dataframe tbody tr th:only-of-type {\n",
       "        vertical-align: middle;\n",
       "    }\n",
       "\n",
       "    .dataframe tbody tr th {\n",
       "        vertical-align: top;\n",
       "    }\n",
       "\n",
       "    .dataframe thead th {\n",
       "        text-align: right;\n",
       "    }\n",
       "</style>\n",
       "<table border=\"1\" class=\"dataframe\">\n",
       "  <thead>\n",
       "    <tr style=\"text-align: right;\">\n",
       "      <th></th>\n",
       "      <th>Line Item ID</th>\n",
       "      <th>Date</th>\n",
       "      <th>App/URL ID</th>\n",
       "      <th>ISP or Carrier ID</th>\n",
       "      <th>Device Type</th>\n",
       "      <th>Exchange ID</th>\n",
       "      <th>Operating System</th>\n",
       "      <th>Browser</th>\n",
       "      <th>Creative Size</th>\n",
       "      <th>Advertiser Currency</th>\n",
       "      <th>Impressions</th>\n",
       "      <th>IO_ID</th>\n",
       "      <th>CPM</th>\n",
       "    </tr>\n",
       "  </thead>\n",
       "  <tbody>\n",
       "    <tr>\n",
       "      <th>0</th>\n",
       "      <td>2</td>\n",
       "      <td>17-08-2020</td>\n",
       "      <td>1.5164E+11</td>\n",
       "      <td>1000</td>\n",
       "      <td>Desktop</td>\n",
       "      <td>1</td>\n",
       "      <td>Macintosh</td>\n",
       "      <td>Chrome</td>\n",
       "      <td>728x90</td>\n",
       "      <td>CAD</td>\n",
       "      <td>2</td>\n",
       "      <td>1</td>\n",
       "      <td>0.0105</td>\n",
       "    </tr>\n",
       "    <tr>\n",
       "      <th>1</th>\n",
       "      <td>2</td>\n",
       "      <td>17-08-2020</td>\n",
       "      <td>1362605575</td>\n",
       "      <td>1000</td>\n",
       "      <td>Desktop</td>\n",
       "      <td>1</td>\n",
       "      <td>Windows 10</td>\n",
       "      <td>Chrome</td>\n",
       "      <td>300x600</td>\n",
       "      <td>CAD</td>\n",
       "      <td>2</td>\n",
       "      <td>1</td>\n",
       "      <td>0.0125</td>\n",
       "    </tr>\n",
       "    <tr>\n",
       "      <th>2</th>\n",
       "      <td>2</td>\n",
       "      <td>17-08-2020</td>\n",
       "      <td>20303819748</td>\n",
       "      <td>207</td>\n",
       "      <td>Desktop</td>\n",
       "      <td>1</td>\n",
       "      <td>Windows 7</td>\n",
       "      <td>Chrome</td>\n",
       "      <td>160x600</td>\n",
       "      <td>CAD</td>\n",
       "      <td>2</td>\n",
       "      <td>1</td>\n",
       "      <td>0.0200</td>\n",
       "    </tr>\n",
       "    <tr>\n",
       "      <th>3</th>\n",
       "      <td>2</td>\n",
       "      <td>17-08-2020</td>\n",
       "      <td>20303819748</td>\n",
       "      <td>666</td>\n",
       "      <td>Desktop</td>\n",
       "      <td>1</td>\n",
       "      <td>Windows 10</td>\n",
       "      <td>Chrome</td>\n",
       "      <td>160x600</td>\n",
       "      <td>CAD</td>\n",
       "      <td>2</td>\n",
       "      <td>1</td>\n",
       "      <td>0.0350</td>\n",
       "    </tr>\n",
       "    <tr>\n",
       "      <th>4</th>\n",
       "      <td>2</td>\n",
       "      <td>17-08-2020</td>\n",
       "      <td>20303819748</td>\n",
       "      <td>1000</td>\n",
       "      <td>Desktop</td>\n",
       "      <td>1</td>\n",
       "      <td>Windows 10</td>\n",
       "      <td>Chrome</td>\n",
       "      <td>160x600</td>\n",
       "      <td>CAD</td>\n",
       "      <td>4</td>\n",
       "      <td>1</td>\n",
       "      <td>0.0220</td>\n",
       "    </tr>\n",
       "  </tbody>\n",
       "</table>\n",
       "</div>"
      ],
      "text/plain": [
       "   Line Item ID        Date   App/URL ID  ISP or Carrier ID Device Type  \\\n",
       "0             2  17-08-2020   1.5164E+11               1000     Desktop   \n",
       "1             2  17-08-2020   1362605575               1000     Desktop   \n",
       "2             2  17-08-2020  20303819748                207     Desktop   \n",
       "3             2  17-08-2020  20303819748                666     Desktop   \n",
       "4             2  17-08-2020  20303819748               1000     Desktop   \n",
       "\n",
       "   Exchange ID Operating System Browser Creative Size Advertiser Currency  \\\n",
       "0            1        Macintosh  Chrome        728x90                 CAD   \n",
       "1            1       Windows 10  Chrome       300x600                 CAD   \n",
       "2            1        Windows 7  Chrome       160x600                 CAD   \n",
       "3            1       Windows 10  Chrome       160x600                 CAD   \n",
       "4            1       Windows 10  Chrome       160x600                 CAD   \n",
       "\n",
       "   Impressions  IO_ID     CPM  \n",
       "0            2      1  0.0105  \n",
       "1            2      1  0.0125  \n",
       "2            2      1  0.0200  \n",
       "3            2      1  0.0350  \n",
       "4            4      1  0.0220  "
      ]
     },
     "execution_count": 2,
     "metadata": {},
     "output_type": "execute_result"
    }
   ],
   "source": [
    "df = pd.read_csv(\"../data/train.csv\")\n",
    "df.head()"
   ]
  },
  {
   "cell_type": "markdown",
   "metadata": {},
   "source": [
    "## Model Training"
   ]
  },
  {
   "cell_type": "code",
   "execution_count": 3,
   "metadata": {
    "ExecuteTime": {
     "end_time": "2020-10-05T14:58:44.671897Z",
     "start_time": "2020-10-05T14:58:44.658806Z"
    },
    "code_folding": [
     0
    ]
   },
   "outputs": [],
   "source": [
    "df.columns = ['line_item_id', 'date', 'app_url_id', 'isp_or_carrier_id',\n",
    "              'device_type', 'exchange_id', 'operating_system', 'browser',\n",
    "              'creative_size', 'advertiser_currency', 'impressions', 'io_id', 'cpm']"
   ]
  },
  {
   "cell_type": "code",
   "execution_count": 4,
   "metadata": {
    "ExecuteTime": {
     "end_time": "2020-10-05T14:58:45.228981Z",
     "start_time": "2020-10-05T14:58:44.673847Z"
    },
    "code_folding": []
   },
   "outputs": [],
   "source": [
    "# Change dtype of date\n",
    "df['date'] = pd.to_datetime(df['date'], format = '%d-%m-%Y')\n",
    "# get day of week\n",
    "import datetime as dt\n",
    "df['day_of_week'] = df['date'].dt.day_name()"
   ]
  },
  {
   "cell_type": "code",
   "execution_count": 5,
   "metadata": {
    "ExecuteTime": {
     "end_time": "2020-10-05T14:58:45.662792Z",
     "start_time": "2020-10-05T14:58:45.230983Z"
    },
    "code_folding": []
   },
   "outputs": [],
   "source": [
    "# drop app/urls which are unknown, since its a very small fraction of the total data\n",
    "unknown_app_ids = df[df['app_url_id'] == 'Unknown'].index\n",
    "df.drop(unknown_app_ids, axis = 0, inplace = True)"
   ]
  },
  {
   "cell_type": "code",
   "execution_count": 6,
   "metadata": {
    "ExecuteTime": {
     "end_time": "2020-10-05T14:58:46.254911Z",
     "start_time": "2020-10-05T14:58:45.664753Z"
    },
    "code_folding": []
   },
   "outputs": [],
   "source": [
    "# convert dtype of app_url_id\n",
    "df['app_url_id'] = pd.to_numeric(df['app_url_id'])"
   ]
  },
  {
   "cell_type": "code",
   "execution_count": 7,
   "metadata": {
    "ExecuteTime": {
     "end_time": "2020-10-05T14:58:46.286676Z",
     "start_time": "2020-10-05T14:58:46.256885Z"
    }
   },
   "outputs": [
    {
     "data": {
      "text/html": [
       "<div>\n",
       "<style scoped>\n",
       "    .dataframe tbody tr th:only-of-type {\n",
       "        vertical-align: middle;\n",
       "    }\n",
       "\n",
       "    .dataframe tbody tr th {\n",
       "        vertical-align: top;\n",
       "    }\n",
       "\n",
       "    .dataframe thead th {\n",
       "        text-align: right;\n",
       "    }\n",
       "</style>\n",
       "<table border=\"1\" class=\"dataframe\">\n",
       "  <thead>\n",
       "    <tr style=\"text-align: right;\">\n",
       "      <th></th>\n",
       "      <th>line_item_id</th>\n",
       "      <th>date</th>\n",
       "      <th>app_url_id</th>\n",
       "      <th>isp_or_carrier_id</th>\n",
       "      <th>device_type</th>\n",
       "      <th>exchange_id</th>\n",
       "      <th>operating_system</th>\n",
       "      <th>browser</th>\n",
       "      <th>creative_size</th>\n",
       "      <th>advertiser_currency</th>\n",
       "      <th>impressions</th>\n",
       "      <th>io_id</th>\n",
       "      <th>cpm</th>\n",
       "      <th>day_of_week</th>\n",
       "    </tr>\n",
       "  </thead>\n",
       "  <tbody>\n",
       "    <tr>\n",
       "      <th>0</th>\n",
       "      <td>2</td>\n",
       "      <td>2020-08-17</td>\n",
       "      <td>1.516400e+11</td>\n",
       "      <td>1000</td>\n",
       "      <td>Desktop</td>\n",
       "      <td>1</td>\n",
       "      <td>Macintosh</td>\n",
       "      <td>Chrome</td>\n",
       "      <td>728x90</td>\n",
       "      <td>CAD</td>\n",
       "      <td>2</td>\n",
       "      <td>1</td>\n",
       "      <td>0.0105</td>\n",
       "      <td>Monday</td>\n",
       "    </tr>\n",
       "    <tr>\n",
       "      <th>1</th>\n",
       "      <td>2</td>\n",
       "      <td>2020-08-17</td>\n",
       "      <td>1.362606e+09</td>\n",
       "      <td>1000</td>\n",
       "      <td>Desktop</td>\n",
       "      <td>1</td>\n",
       "      <td>Windows 10</td>\n",
       "      <td>Chrome</td>\n",
       "      <td>300x600</td>\n",
       "      <td>CAD</td>\n",
       "      <td>2</td>\n",
       "      <td>1</td>\n",
       "      <td>0.0125</td>\n",
       "      <td>Monday</td>\n",
       "    </tr>\n",
       "    <tr>\n",
       "      <th>2</th>\n",
       "      <td>2</td>\n",
       "      <td>2020-08-17</td>\n",
       "      <td>2.030382e+10</td>\n",
       "      <td>207</td>\n",
       "      <td>Desktop</td>\n",
       "      <td>1</td>\n",
       "      <td>Windows 7</td>\n",
       "      <td>Chrome</td>\n",
       "      <td>160x600</td>\n",
       "      <td>CAD</td>\n",
       "      <td>2</td>\n",
       "      <td>1</td>\n",
       "      <td>0.0200</td>\n",
       "      <td>Monday</td>\n",
       "    </tr>\n",
       "    <tr>\n",
       "      <th>3</th>\n",
       "      <td>2</td>\n",
       "      <td>2020-08-17</td>\n",
       "      <td>2.030382e+10</td>\n",
       "      <td>666</td>\n",
       "      <td>Desktop</td>\n",
       "      <td>1</td>\n",
       "      <td>Windows 10</td>\n",
       "      <td>Chrome</td>\n",
       "      <td>160x600</td>\n",
       "      <td>CAD</td>\n",
       "      <td>2</td>\n",
       "      <td>1</td>\n",
       "      <td>0.0350</td>\n",
       "      <td>Monday</td>\n",
       "    </tr>\n",
       "    <tr>\n",
       "      <th>4</th>\n",
       "      <td>2</td>\n",
       "      <td>2020-08-17</td>\n",
       "      <td>2.030382e+10</td>\n",
       "      <td>1000</td>\n",
       "      <td>Desktop</td>\n",
       "      <td>1</td>\n",
       "      <td>Windows 10</td>\n",
       "      <td>Chrome</td>\n",
       "      <td>160x600</td>\n",
       "      <td>CAD</td>\n",
       "      <td>4</td>\n",
       "      <td>1</td>\n",
       "      <td>0.0220</td>\n",
       "      <td>Monday</td>\n",
       "    </tr>\n",
       "  </tbody>\n",
       "</table>\n",
       "</div>"
      ],
      "text/plain": [
       "   line_item_id       date    app_url_id  isp_or_carrier_id device_type  \\\n",
       "0             2 2020-08-17  1.516400e+11               1000     Desktop   \n",
       "1             2 2020-08-17  1.362606e+09               1000     Desktop   \n",
       "2             2 2020-08-17  2.030382e+10                207     Desktop   \n",
       "3             2 2020-08-17  2.030382e+10                666     Desktop   \n",
       "4             2 2020-08-17  2.030382e+10               1000     Desktop   \n",
       "\n",
       "   exchange_id operating_system browser creative_size advertiser_currency  \\\n",
       "0            1        Macintosh  Chrome        728x90                 CAD   \n",
       "1            1       Windows 10  Chrome       300x600                 CAD   \n",
       "2            1        Windows 7  Chrome       160x600                 CAD   \n",
       "3            1       Windows 10  Chrome       160x600                 CAD   \n",
       "4            1       Windows 10  Chrome       160x600                 CAD   \n",
       "\n",
       "   impressions  io_id     cpm day_of_week  \n",
       "0            2      1  0.0105      Monday  \n",
       "1            2      1  0.0125      Monday  \n",
       "2            2      1  0.0200      Monday  \n",
       "3            2      1  0.0350      Monday  \n",
       "4            4      1  0.0220      Monday  "
      ]
     },
     "execution_count": 7,
     "metadata": {},
     "output_type": "execute_result"
    }
   ],
   "source": [
    "df.head()"
   ]
  },
  {
   "cell_type": "markdown",
   "metadata": {},
   "source": [
    "### Feature Scaling is not required because splitting of the nodes takes place on a single feature, so scale doesnt matter"
   ]
  },
  {
   "cell_type": "markdown",
   "metadata": {},
   "source": [
    "### Encoder Techniques"
   ]
  },
  {
   "cell_type": "markdown",
   "metadata": {},
   "source": [
    "    - Try l1,l2 regularization\n",
    "    - try catboost in lightgbm\n",
    "    - track R2, adjusted R2, RMSE.\n",
    "    - Once encoding is fixed, Try NN."
   ]
  },
  {
   "cell_type": "markdown",
   "metadata": {
    "heading_collapsed": true
   },
   "source": [
    "#### Target Encoding\n",
    "    Target Encoding is a bad choice here because it leaks the target\n",
    "    variable's information into the training data. I am not going to use this"
   ]
  },
  {
   "cell_type": "code",
   "execution_count": null,
   "metadata": {
    "ExecuteTime": {
     "end_time": "2020-09-26T18:39:58.261815Z",
     "start_time": "2020-09-26T18:39:52.556769Z"
    },
    "code_folding": [],
    "deletable": false,
    "editable": false,
    "hidden": true,
    "run_control": {
     "frozen": true
    }
   },
   "outputs": [],
   "source": [
    "#def target_encoder(df_temp, target, categorical, encoder):\n",
    "# Target Encoding\n",
    "# Make a copy of original dataset\n",
    "df_temp = df.copy()\n",
    "df_temp.drop(['line_item_id', 'io_id'], axis = 1, inplace = True)\n",
    "\n",
    "categorical = ['app_url_id', 'device_type', 'operating_system', \n",
    "               'browser','creative_size', 'advertiser_currency','day_of_week']\n",
    "\n",
    "\n",
    "enc = ce.TargetEncoder(cols = categorical)\n",
    "\n",
    "# fit and transform\n",
    "encoded_cols = enc.fit_transform(df_temp[categorical], df_temp['cpm'])\n",
    "\n",
    "# merge encoded columns with dataset\n",
    "df_temp[list(encoded_cols)] = encoded_cols\n",
    "\n",
    "df_temp.head()"
   ]
  },
  {
   "cell_type": "markdown",
   "metadata": {},
   "source": [
    "#### CatBoost Encoder\n",
    "    - Supported for continuous targets\n",
    "    - training data must be randomly permutated"
   ]
  },
  {
   "cell_type": "code",
   "execution_count": 8,
   "metadata": {
    "ExecuteTime": {
     "end_time": "2020-10-05T14:59:07.191630Z",
     "start_time": "2020-10-05T14:58:46.289679Z"
    },
    "code_folding": [],
    "scrolled": false
   },
   "outputs": [
    {
     "name": "stdout",
     "output_type": "stream",
     "text": [
      "<class 'pandas.core.frame.DataFrame'>\n",
      "RangeIndex: 1391924 entries, 0 to 1391923\n",
      "Data columns (total 14 columns):\n",
      " #   Column               Non-Null Count    Dtype         \n",
      "---  ------               --------------    -----         \n",
      " 0   line_item_id         1391924 non-null  int64         \n",
      " 1   date                 1391924 non-null  datetime64[ns]\n",
      " 2   app_url_id           1391924 non-null  float64       \n",
      " 3   isp_or_carrier_id    1391924 non-null  int64         \n",
      " 4   device_type          1391924 non-null  float64       \n",
      " 5   exchange_id          1391924 non-null  int64         \n",
      " 6   operating_system     1391924 non-null  float64       \n",
      " 7   browser              1391924 non-null  float64       \n",
      " 8   creative_size        1391924 non-null  float64       \n",
      " 9   advertiser_currency  1391924 non-null  float64       \n",
      " 10  impressions          1391924 non-null  int64         \n",
      " 11  io_id                1391924 non-null  int64         \n",
      " 12  cpm                  1391924 non-null  float64       \n",
      " 13  day_of_week          1391924 non-null  float64       \n",
      "dtypes: datetime64[ns](1), float64(8), int64(5)\n",
      "memory usage: 148.7 MB\n"
     ]
    }
   ],
   "source": [
    "#def catboost(df_temp, categorical, target, encoder):\n",
    "from category_encoders import CatBoostEncoder\n",
    "import category_encoders as ce\n",
    "\n",
    "# Make a copy of original dataset\n",
    "df_temp = df.copy()\n",
    "\n",
    "# Random permutation \n",
    "#set a random seed for replication\n",
    "seed = 2019\n",
    "np.random.seed(seed)\n",
    "\n",
    "perm = np.random.permutation(len(df_temp)) \n",
    "df_temp = df_temp.iloc[perm].reset_index(drop = True)\n",
    "\n",
    "# CatBoostEncoder\n",
    "categorical = ['app_url_id', 'operating_system',\n",
    "               'browser','creative_size', 'advertiser_currency', \n",
    "               'device_type', 'day_of_week']\n",
    "enc = CatBoostEncoder(cols = categorical, )\n",
    "\n",
    "# fit and transform\n",
    "cat_boost_encoded_cols = enc.fit_transform(df_temp[categorical], df_temp['cpm'])\n",
    "\n",
    "# Merge encoded columns with original \n",
    "df_temp[list(cat_boost_encoded_cols)] = cat_boost_encoded_cols\n",
    "\n",
    "#df_temp['cpm'] = target\n",
    "\n",
    "df_temp.info()"
   ]
  },
  {
   "cell_type": "markdown",
   "metadata": {
    "deletable": false,
    "editable": false,
    "run_control": {
     "frozen": true
    }
   },
   "source": [
    "#### JamesStein Encoder"
   ]
  },
  {
   "cell_type": "code",
   "execution_count": null,
   "metadata": {
    "ExecuteTime": {
     "end_time": "2020-09-28T02:35:33.195081Z",
     "start_time": "2020-09-28T02:35:29.868582Z"
    },
    "deletable": false,
    "editable": false,
    "run_control": {
     "frozen": true
    }
   },
   "outputs": [],
   "source": [
    "from category_encoders import JamesSteinEncoder\n",
    "# Make a copy of original dataset\n",
    "#df_temp = df.copy()\n",
    "#df_temp.drop(['line_item_id', 'io_id'], axis = 1, inplace = True)\n",
    "\n",
    "# Random permutation \n",
    "#perm = np.random.permutation(len(df_temp)) \n",
    "#X = X.iloc[perm].reset_index(drop=True) \n",
    "#y = y.iloc[perm].reset_index(drop=True)\n",
    "#df_temp = df_temp.iloc[perm].reset_index(drop = True)\n",
    "\n",
    "# CatBoostEncoder\n",
    "categorical = ['app_url_id', 'operating_system',\n",
    "               'browser','creative_size', 'advertiser_currency']\n",
    "\n",
    "js_enc = JamesSteinEncoder(cols = categorical, \n",
    "                           randomized=True, \n",
    "                           random_state=10)\n",
    "\n",
    "# fit and transform\n",
    "js_encoded_cols = js_enc.fit_transform(df_temp[categorical], df_temp['cpm'])\n",
    "# Merge encoded columns with original \n",
    "df_temp[list(js_encoded_cols)] = js_encoded_cols\n",
    "df_temp.head()"
   ]
  },
  {
   "cell_type": "code",
   "execution_count": 9,
   "metadata": {
    "ExecuteTime": {
     "end_time": "2020-10-05T14:59:07.285630Z",
     "start_time": "2020-10-05T14:59:07.197663Z"
    }
   },
   "outputs": [
    {
     "name": "stdout",
     "output_type": "stream",
     "text": [
      "<class 'pandas.core.frame.DataFrame'>\n",
      "RangeIndex: 1391924 entries, 0 to 1391923\n",
      "Data columns (total 14 columns):\n",
      " #   Column               Non-Null Count    Dtype         \n",
      "---  ------               --------------    -----         \n",
      " 0   line_item_id         1391924 non-null  int64         \n",
      " 1   date                 1391924 non-null  datetime64[ns]\n",
      " 2   app_url_id           1391924 non-null  float64       \n",
      " 3   isp_or_carrier_id    1391924 non-null  int64         \n",
      " 4   device_type          1391924 non-null  float64       \n",
      " 5   exchange_id          1391924 non-null  int64         \n",
      " 6   operating_system     1391924 non-null  float64       \n",
      " 7   browser              1391924 non-null  float64       \n",
      " 8   creative_size        1391924 non-null  float64       \n",
      " 9   advertiser_currency  1391924 non-null  float64       \n",
      " 10  impressions          1391924 non-null  int64         \n",
      " 11  io_id                1391924 non-null  int64         \n",
      " 12  cpm                  1391924 non-null  float64       \n",
      " 13  day_of_week          1391924 non-null  float64       \n",
      "dtypes: datetime64[ns](1), float64(8), int64(5)\n",
      "memory usage: 148.7 MB\n"
     ]
    }
   ],
   "source": [
    "df_temp.info()"
   ]
  },
  {
   "cell_type": "markdown",
   "metadata": {
    "deletable": false,
    "editable": false,
    "run_control": {
     "frozen": true
    }
   },
   "source": [
    "### Train-test split\n",
    "    Take the last available date as test data"
   ]
  },
  {
   "cell_type": "code",
   "execution_count": 10,
   "metadata": {
    "ExecuteTime": {
     "end_time": "2020-10-05T14:59:07.377951Z",
     "start_time": "2020-10-05T14:59:07.286632Z"
    },
    "scrolled": false
   },
   "outputs": [
    {
     "data": {
      "text/html": [
       "<div>\n",
       "<style scoped>\n",
       "    .dataframe tbody tr th:only-of-type {\n",
       "        vertical-align: middle;\n",
       "    }\n",
       "\n",
       "    .dataframe tbody tr th {\n",
       "        vertical-align: top;\n",
       "    }\n",
       "\n",
       "    .dataframe thead th {\n",
       "        text-align: right;\n",
       "    }\n",
       "</style>\n",
       "<table border=\"1\" class=\"dataframe\">\n",
       "  <thead>\n",
       "    <tr style=\"text-align: right;\">\n",
       "      <th></th>\n",
       "      <th>date</th>\n",
       "      <th>app_url_id</th>\n",
       "      <th>isp_or_carrier_id</th>\n",
       "      <th>device_type</th>\n",
       "      <th>exchange_id</th>\n",
       "      <th>operating_system</th>\n",
       "      <th>browser</th>\n",
       "      <th>creative_size</th>\n",
       "      <th>advertiser_currency</th>\n",
       "      <th>impressions</th>\n",
       "      <th>cpm</th>\n",
       "      <th>day_of_week</th>\n",
       "    </tr>\n",
       "  </thead>\n",
       "  <tbody>\n",
       "    <tr>\n",
       "      <th>0</th>\n",
       "      <td>2020-08-19</td>\n",
       "      <td>2.10074</td>\n",
       "      <td>224</td>\n",
       "      <td>2.100740</td>\n",
       "      <td>1</td>\n",
       "      <td>2.10074</td>\n",
       "      <td>2.100740</td>\n",
       "      <td>2.100740</td>\n",
       "      <td>2.100740</td>\n",
       "      <td>1</td>\n",
       "      <td>0.549000</td>\n",
       "      <td>2.100740</td>\n",
       "    </tr>\n",
       "    <tr>\n",
       "      <th>1</th>\n",
       "      <td>2020-08-20</td>\n",
       "      <td>2.10074</td>\n",
       "      <td>654</td>\n",
       "      <td>2.100740</td>\n",
       "      <td>1</td>\n",
       "      <td>2.10074</td>\n",
       "      <td>2.100740</td>\n",
       "      <td>2.100740</td>\n",
       "      <td>2.100740</td>\n",
       "      <td>3</td>\n",
       "      <td>0.623333</td>\n",
       "      <td>2.100740</td>\n",
       "    </tr>\n",
       "    <tr>\n",
       "      <th>2</th>\n",
       "      <td>2020-08-24</td>\n",
       "      <td>2.10074</td>\n",
       "      <td>828</td>\n",
       "      <td>1.362036</td>\n",
       "      <td>1</td>\n",
       "      <td>2.10074</td>\n",
       "      <td>1.362036</td>\n",
       "      <td>1.362036</td>\n",
       "      <td>1.362036</td>\n",
       "      <td>1</td>\n",
       "      <td>0.517000</td>\n",
       "      <td>2.100740</td>\n",
       "    </tr>\n",
       "    <tr>\n",
       "      <th>3</th>\n",
       "      <td>2020-08-27</td>\n",
       "      <td>2.10074</td>\n",
       "      <td>673</td>\n",
       "      <td>2.100740</td>\n",
       "      <td>1</td>\n",
       "      <td>2.10074</td>\n",
       "      <td>1.324870</td>\n",
       "      <td>2.100740</td>\n",
       "      <td>1.324870</td>\n",
       "      <td>4</td>\n",
       "      <td>0.275000</td>\n",
       "      <td>1.362036</td>\n",
       "    </tr>\n",
       "    <tr>\n",
       "      <th>4</th>\n",
       "      <td>2020-08-27</td>\n",
       "      <td>2.10074</td>\n",
       "      <td>1000</td>\n",
       "      <td>1.324870</td>\n",
       "      <td>1</td>\n",
       "      <td>2.10074</td>\n",
       "      <td>0.974913</td>\n",
       "      <td>2.100740</td>\n",
       "      <td>1.080358</td>\n",
       "      <td>3</td>\n",
       "      <td>1.100000</td>\n",
       "      <td>0.999691</td>\n",
       "    </tr>\n",
       "  </tbody>\n",
       "</table>\n",
       "</div>"
      ],
      "text/plain": [
       "        date  app_url_id  isp_or_carrier_id  device_type  exchange_id  \\\n",
       "0 2020-08-19     2.10074                224     2.100740            1   \n",
       "1 2020-08-20     2.10074                654     2.100740            1   \n",
       "2 2020-08-24     2.10074                828     1.362036            1   \n",
       "3 2020-08-27     2.10074                673     2.100740            1   \n",
       "4 2020-08-27     2.10074               1000     1.324870            1   \n",
       "\n",
       "   operating_system   browser  creative_size  advertiser_currency  \\\n",
       "0           2.10074  2.100740       2.100740             2.100740   \n",
       "1           2.10074  2.100740       2.100740             2.100740   \n",
       "2           2.10074  1.362036       1.362036             1.362036   \n",
       "3           2.10074  1.324870       2.100740             1.324870   \n",
       "4           2.10074  0.974913       2.100740             1.080358   \n",
       "\n",
       "   impressions       cpm  day_of_week  \n",
       "0            1  0.549000     2.100740  \n",
       "1            3  0.623333     2.100740  \n",
       "2            1  0.517000     2.100740  \n",
       "3            4  0.275000     1.362036  \n",
       "4            3  1.100000     0.999691  "
      ]
     },
     "execution_count": 10,
     "metadata": {},
     "output_type": "execute_result"
    }
   ],
   "source": [
    "df_temp.drop(['line_item_id', 'io_id'], axis = 1, inplace = True)\n",
    "df_temp.head()"
   ]
  },
  {
   "cell_type": "code",
   "execution_count": 11,
   "metadata": {
    "ExecuteTime": {
     "end_time": "2020-10-05T14:59:07.752022Z",
     "start_time": "2020-10-05T14:59:07.379855Z"
    },
    "code_folding": []
   },
   "outputs": [
    {
     "name": "stdout",
     "output_type": "stream",
     "text": [
      "X_train shape: (1221473, 10) \n",
      "X_test shape: (170451, 10)\n"
     ]
    }
   ],
   "source": [
    "# Take 27/08/2020 as test dataset\n",
    "df_test = df_temp[df_temp['date'] == '2020-08-27'].copy()\n",
    "df_train = df_temp.drop(df_test.index, axis = 0)\n",
    "\n",
    "# Separate train and test data into predictors and target\n",
    "df_test.drop('date', axis = 1, inplace = True)\n",
    "X_test = df_test.drop('cpm', axis = 1).to_numpy()\n",
    "y_test = df_test['cpm'].to_numpy()\n",
    "\n",
    "df_train.drop('date', axis = 1, inplace = True)\n",
    "X_train = df_train.drop('cpm', axis = 1).to_numpy()\n",
    "y_train = df_train['cpm'].to_numpy()\n",
    "\n",
    "# Shape of Train and test datasets\n",
    "print(\"X_train shape: {} \".format(X_train.shape))\n",
    "print(\"X_test shape: {}\".format(X_test.shape))\n",
    "\n",
    "del(df_temp)\n",
    "del(df_train)\n",
    "del(df_test)"
   ]
  },
  {
   "cell_type": "markdown",
   "metadata": {},
   "source": [
    "### Training"
   ]
  },
  {
   "cell_type": "markdown",
   "metadata": {
    "heading_collapsed": true
   },
   "source": [
    "#### Linear Regression"
   ]
  },
  {
   "cell_type": "code",
   "execution_count": 12,
   "metadata": {
    "ExecuteTime": {
     "end_time": "2020-10-05T14:59:08.501729Z",
     "start_time": "2020-10-05T14:59:07.754021Z"
    },
    "code_folding": [],
    "hidden": true
   },
   "outputs": [
    {
     "name": "stdout",
     "output_type": "stream",
     "text": [
      "Linear Regression\n",
      "Train R2 Score: 0.132\n",
      "Test R2 Score: -4.952\n",
      "Adjusted R2 train : 0.132\n",
      "Adjusted R2 test : -4.952\n",
      "MSE Test: 4.7740678167663555\n",
      "MSE Train: 37.20776203530814\n",
      "MEA Train: 1.9153665962874686\n",
      "MSE Test: 1.1053305090048549\n"
     ]
    }
   ],
   "source": [
    "#def LR(X_train, X_test, y_train, y_test, encoder):\n",
    "#print(\"Encoder Used: {}\".format(encoder))\n",
    "\n",
    "from sklearn import linear_model\n",
    "from sklearn.metrics import mean_squared_error\n",
    "from sklearn.metrics import mean_absolute_error\n",
    "reg = linear_model.LinearRegression()\n",
    "reg.fit(X_train, y_train)\n",
    "\n",
    "# R2 Score\n",
    "\n",
    "r2_train = reg.score(X_train, y_train)\n",
    "r2_test = reg.score(X_test, y_test)\n",
    "print(\"Linear Regression\")\n",
    "print(\"Train R2 Score: {:.3f}\".format(r2_train))\n",
    "print(\"Test R2 Score: {:.3f}\".format(r2_test))\n",
    "\n",
    "# Adjusted R2\n",
    "adj_r2_train = (1-(1-r2_train) * ((X_train.shape[0] - 1)/(X_train.shape[0] - X_train.shape[1] - 1)))\n",
    "adj_r2_test = (1-(1-r2_test) * ((X_test.shape[0] - 1)/(X_test.shape[0] - X_test.shape[1] - 1)))\n",
    "print(\"Adjusted R2 train : {:.3f}\".format(adj_r2_train))\n",
    "print(\"Adjusted R2 test : {:.3f}\".format(adj_r2_test))\n",
    "\n",
    "# MSE\n",
    "mse_train = mean_squared_error(y_train, reg.predict(X_train))\n",
    "mse_test = mean_squared_error(y_test, reg.predict(X_test))\n",
    "#print(\"Linear Regression\")\n",
    "print(\"MSE Test: {}\".format(mse_test))\n",
    "print(\"MSE Train: {}\".format(mse_train))\n",
    "\n",
    "mea_train = mean_absolute_error(y_train, reg.predict(X_train))\n",
    "mea_test = mean_absolute_error(y_test, reg.predict(X_test))\n",
    "\n",
    "print(\"MEA Train: {}\".format(mea_train))\n",
    "print(\"MSE Test: {}\".format(mea_test))\n"
   ]
  },
  {
   "cell_type": "markdown",
   "metadata": {},
   "source": [
    "#### HistGradientBoostingRegressor"
   ]
  },
  {
   "cell_type": "markdown",
   "metadata": {},
   "source": [
    "    Do TimeSeries EDA\n",
    "    Test Set must be as close to the test dataset as possible, \n",
    "    So keeping the last available date (27/8/20) is the way to go.\n",
    "    \n",
    "    try catboostRegressor - checkout categorical cols and regularization parameters\n",
    "    try lightgbm - \n",
    "    \n",
    "    Keep val set as last day data\n",
    "    hyperparameter tuning\n",
    "    see if rgularizatuin in thse\n",
    "    \n",
    "    train different models for each IO_ID\n",
    "    ignore line_item altogether\n",
    "    \n",
    "    Prediction Diagnostics:\n",
    "        Plot predicted values with True values\n",
    "        Check RMSE against the 75% \n",
    "        MEA Mean ABsolute Error\n",
    "        "
   ]
  },
  {
   "cell_type": "markdown",
   "metadata": {},
   "source": [
    "### Base model"
   ]
  },
  {
   "cell_type": "code",
   "execution_count": 13,
   "metadata": {
    "ExecuteTime": {
     "end_time": "2020-10-05T14:59:28.633252Z",
     "start_time": "2020-10-05T14:59:08.503728Z"
    },
    "code_folding": [
     0
    ],
    "scrolled": false
   },
   "outputs": [
    {
     "name": "stdout",
     "output_type": "stream",
     "text": [
      "done in 9.752s\n",
      "HistGradientBoostingRegressor\n",
      "Train R2 Score: 0.316\n",
      "Test R2 Score: -15.501\n",
      "Adjusted R2 train : 0.316\n",
      "Adjusted R2 test : -15.502\n",
      "MSE on test: 13.236339059431286\n",
      "MSE on train: 29.29915086840231\n",
      "MEA Train: 1.6742072694086743\n",
      "MEA Test: 1.4295207653573812\n"
     ]
    }
   ],
   "source": [
    "# base model\n",
    "from sklearn.experimental import enable_hist_gradient_boosting\n",
    "from sklearn.ensemble import HistGradientBoostingRegressor\n",
    "from sklearn.metrics import mean_squared_error, mean_absolute_error\n",
    "from time import time\n",
    "\n",
    "model = HistGradientBoostingRegressor()\n",
    "tic = time()\n",
    "model.fit(X_train, y_train)\n",
    "print(\"done in {:.3f}s\".format(time() - tic))\n",
    "\n",
    "# R2 score\n",
    "\n",
    "r2_train = model.score(X_train, y_train)\n",
    "r2_test = model.score(X_test, y_test)\n",
    "print(\"HistGradientBoostingRegressor\")\n",
    "print(\"Train R2 Score: {:.3f}\".format(r2_train))\n",
    "print(\"Test R2 Score: {:.3f}\".format(r2_test))\n",
    "\n",
    "# Adjusted R2\n",
    "adj_r2_train = (1-(1-r2_train) * ((X_train.shape[0] - 1)/(X_train.shape[0] - X_train.shape[1] - 1)))\n",
    "adj_r2_test = (1-(1-r2_test) * ((X_test.shape[0] - 1)/(X_test.shape[0] - X_test.shape[1] - 1)))\n",
    "print(\"Adjusted R2 train : {:.3f}\".format(adj_r2_train))\n",
    "print(\"Adjusted R2 test : {:.3f}\".format(adj_r2_test))\n",
    "\n",
    "# MSE\n",
    "mse_train = (mean_squared_error(y_train, model.predict(X_train)))\n",
    "mse_test = (mean_squared_error(y_test, model.predict(X_test)))\n",
    "print(\"MSE on test: {}\".format(mse_test))\n",
    "print(\"MSE on train: {}\".format(mse_train))\n",
    "\n",
    "mea_train = mean_absolute_error(y_train, model.predict(X_train))\n",
    "mea_test = mean_absolute_error(y_test, model.predict(X_test))\n",
    "\n",
    "print(\"MEA Train: {}\".format(mea_train))\n",
    "print(\"MEA Test: {}\".format(mea_test))\n",
    "\n",
    "import matplotlib.pyplot as plt\n"
   ]
  },
  {
   "cell_type": "markdown",
   "metadata": {},
   "source": [
    "## Cross Validation"
   ]
  },
  {
   "cell_type": "code",
   "execution_count": 14,
   "metadata": {
    "ExecuteTime": {
     "end_time": "2020-10-05T14:59:28.648853Z",
     "start_time": "2020-10-05T14:59:28.637254Z"
    }
   },
   "outputs": [],
   "source": [
    "from sklearn.model_selection import RandomizedSearchCV"
   ]
  },
  {
   "cell_type": "code",
   "execution_count": 15,
   "metadata": {
    "ExecuteTime": {
     "end_time": "2020-10-05T14:59:28.694835Z",
     "start_time": "2020-10-05T14:59:28.653836Z"
    }
   },
   "outputs": [],
   "source": [
    "parameters = {\n",
    "    'max_iter': [200, 500, 700],\n",
    "    'learning_rate': list(np.round(np.linspace(0.05, 0.1, 5), 2)),\n",
    "    'max_depth' : list(np.arange(10, 80, 10)),\n",
    "    'max_leaf_nodes' : list(np.arange(3, 30, 3)),\n",
    "    'l2_regularization': [5, 10, 15],\n",
    "    'scoring': ['neg_mean_absolute_error', 'neg_median_absolute_error'],\n",
    "    'random_state' : [seed],\n",
    "    'loss' : ['least_absolute_deviation'],\n",
    "    'n_iter_no_change' : [10],\n",
    "    'tol' : [1e-02],\n",
    "    'verbose': [4],\n",
    " }"
   ]
  },
  {
   "cell_type": "code",
   "execution_count": null,
   "metadata": {
    "ExecuteTime": {
     "end_time": "2020-10-05T11:27:59.173235Z",
     "start_time": "2020-10-05T11:27:59.157198Z"
    },
    "deletable": false,
    "editable": false,
    "run_control": {
     "frozen": true
    }
   },
   "outputs": [],
   "source": [
    "parameters_best_so_far = {\n",
    "    'max_iter': [200, 500, 700],\n",
    "    'learning_rate': list(np.round(np.linspace(0.05, 0.1, 5), 2)),\n",
    "    'max_depth' : [25, 50, 75],\n",
    "    'l2_regularization': [5],\n",
    "    'scoring': ['neg_mean_absolute_error', 'neg_median_absolute_error', \n",
    "                'neg_root_mean_squared_error'],\n",
    "    'random_state' : [seed],\n",
    "    'loss' : ['least_absolute_deviation']\n",
    " }"
   ]
  },
  {
   "cell_type": "code",
   "execution_count": 21,
   "metadata": {
    "ExecuteTime": {
     "end_time": "2020-10-05T15:10:51.776129Z",
     "start_time": "2020-10-05T15:10:51.767646Z"
    }
   },
   "outputs": [],
   "source": [
    "cv_model = RandomizedSearchCV(HistGradientBoostingRegressor(), \n",
    "                              parameters, n_jobs = -1,\n",
    "                             cv = 10, verbose = 3)"
   ]
  },
  {
   "cell_type": "code",
   "execution_count": 22,
   "metadata": {
    "ExecuteTime": {
     "end_time": "2020-10-05T15:16:49.275696Z",
     "start_time": "2020-10-05T15:10:52.359868Z"
    },
    "scrolled": false
   },
   "outputs": [
    {
     "name": "stdout",
     "output_type": "stream",
     "text": [
      "Fitting 10 folds for each of 10 candidates, totalling 100 fits\n"
     ]
    },
    {
     "name": "stderr",
     "output_type": "stream",
     "text": [
      "[Parallel(n_jobs=-1)]: Using backend LokyBackend with 8 concurrent workers.\n",
      "[Parallel(n_jobs=-1)]: Done  16 tasks      | elapsed:   56.2s\n",
      "[Parallel(n_jobs=-1)]: Done 100 out of 100 | elapsed:  5.7min finished\n"
     ]
    },
    {
     "name": "stdout",
     "output_type": "stream",
     "text": [
      "Binning 0.088 GB of training data: 0.375 s\n",
      "Binning 0.010 GB of validation data: 0.015 s\n",
      "Fitting gradient boosted rounds:\n",
      "[1/500] 1 tree, 27 leaves, max depth = 8, train score: -1.66066, val score: -1.71285, in 0.206s\n",
      "[2/500] 1 tree, 27 leaves, max depth = 8, train score: -1.62449, val score: -1.67697, in 0.206s\n",
      "[3/500] 1 tree, 27 leaves, max depth = 8, train score: -1.59306, val score: -1.64621, in 0.212s\n",
      "[4/500] 1 tree, 27 leaves, max depth = 8, train score: -1.56468, val score: -1.61842, in 0.200s\n",
      "[5/500] 1 tree, 27 leaves, max depth = 8, train score: -1.54031, val score: -1.59439, in 0.211s\n",
      "[6/500] 1 tree, 27 leaves, max depth = 8, train score: -1.51808, val score: -1.57221, in 0.216s\n",
      "[7/500] 1 tree, 27 leaves, max depth = 7, train score: -1.49865, val score: -1.55313, in 0.230s\n",
      "[8/500] 1 tree, 27 leaves, max depth = 7, train score: -1.48175, val score: -1.53666, in 0.235s\n",
      "[9/500] 1 tree, 27 leaves, max depth = 7, train score: -1.46628, val score: -1.52156, in 0.215s\n",
      "[10/500] 1 tree, 27 leaves, max depth = 7, train score: -1.45229, val score: -1.50784, in 0.228s\n",
      "[11/500] 1 tree, 27 leaves, max depth = 8, train score: -1.44003, val score: -1.49579, in 0.225s\n",
      "[12/500] 1 tree, 27 leaves, max depth = 8, train score: -1.42925, val score: -1.48511, in 0.237s\n",
      "[13/500] 1 tree, 27 leaves, max depth = 7, train score: -1.41898, val score: -1.47492, in 0.226s\n",
      "[14/500] 1 tree, 27 leaves, max depth = 8, train score: -1.40958, val score: -1.46560, in 0.228s\n",
      "[15/500] 1 tree, 27 leaves, max depth = 8, train score: -1.40146, val score: -1.45779, in 0.237s\n",
      "[16/500] 1 tree, 27 leaves, max depth = 7, train score: -1.39325, val score: -1.44985, in 0.240s\n",
      "[17/500] 1 tree, 27 leaves, max depth = 8, train score: -1.38774, val score: -1.44451, in 0.256s\n",
      "[18/500] 1 tree, 27 leaves, max depth = 8, train score: -1.38220, val score: -1.43928, in 0.247s\n",
      "[19/500] 1 tree, 27 leaves, max depth = 8, train score: -1.37783, val score: -1.43483, in 0.249s\n",
      "[20/500] 1 tree, 27 leaves, max depth = 8, train score: -1.37401, val score: -1.43112, in 0.250s\n",
      "[21/500] 1 tree, 27 leaves, max depth = 8, train score: -1.36988, val score: -1.42712, in 0.229s\n",
      "[22/500] 1 tree, 27 leaves, max depth = 9, train score: -1.36630, val score: -1.42371, in 0.267s\n",
      "[23/500] 1 tree, 27 leaves, max depth = 9, train score: -1.36318, val score: -1.42076, in 0.258s\n",
      "[24/500] 1 tree, 27 leaves, max depth = 9, train score: -1.36058, val score: -1.41812, in 0.258s\n",
      "[25/500] 1 tree, 27 leaves, max depth = 8, train score: -1.35787, val score: -1.41569, in 0.293s\n",
      "[26/500] 1 tree, 27 leaves, max depth = 8, train score: -1.35582, val score: -1.41380, in 0.296s\n",
      "[27/500] 1 tree, 27 leaves, max depth = 8, train score: -1.35380, val score: -1.41181, in 0.274s\n",
      "[28/500] 1 tree, 27 leaves, max depth = 10, train score: -1.35250, val score: -1.41047, in 0.297s\n",
      "[29/500] 1 tree, 27 leaves, max depth = 8, train score: -1.35055, val score: -1.40861, in 0.268s\n",
      "[30/500] 1 tree, 27 leaves, max depth = 11, train score: -1.34910, val score: -1.40712, in 0.314s\n",
      "[31/500] 1 tree, 27 leaves, max depth = 10, train score: -1.34809, val score: -1.40603, in 0.279s\n",
      "[32/500] 1 tree, 27 leaves, max depth = 9, train score: -1.34691, val score: -1.40494, in 0.270s\n",
      "[33/500] 1 tree, 27 leaves, max depth = 12, train score: -1.34569, val score: -1.40380, in 0.280s\n",
      "[34/500] 1 tree, 27 leaves, max depth = 10, train score: -1.34597, val score: -1.40050, in 0.336s\n",
      "[35/500] 1 tree, 27 leaves, max depth = 7, train score: -1.34479, val score: -1.39916, in 0.280s\n",
      "[36/500] 1 tree, 27 leaves, max depth = 10, train score: -1.34402, val score: -1.39844, in 0.292s\n",
      "[37/500] 1 tree, 27 leaves, max depth = 8, train score: -1.34438, val score: -1.39646, in 0.271s\n",
      "[38/500] 1 tree, 27 leaves, max depth = 12, train score: -1.34394, val score: -1.39593, in 0.336s\n",
      "[39/500] 1 tree, 27 leaves, max depth = 9, train score: -1.34346, val score: -1.39552, in 0.291s\n",
      "[40/500] 1 tree, 27 leaves, max depth = 9, train score: -1.34299, val score: -1.39488, in 0.302s\n",
      "[41/500] 1 tree, 27 leaves, max depth = 9, train score: -1.34243, val score: -1.39437, in 0.298s\n",
      "[42/500] 1 tree, 27 leaves, max depth = 9, train score: -1.34162, val score: -1.39364, in 0.324s\n",
      "[43/500] 1 tree, 27 leaves, max depth = 12, train score: -1.34096, val score: -1.39300, in 0.297s\n",
      "[44/500] 1 tree, 27 leaves, max depth = 8, train score: -1.34065, val score: -1.39262, in 0.328s\n",
      "Fit 44 trees in 12.377 s, (1188 total leaves)\n",
      "Time spent computing histograms: 1.517s\n",
      "Time spent finding best splits:  0.126s\n",
      "Time spent applying splits:      0.920s\n",
      "Time spent predicting:           0.231s\n"
     ]
    },
    {
     "data": {
      "text/plain": [
       "RandomizedSearchCV(cv=10, error_score=nan,\n",
       "                   estimator=HistGradientBoostingRegressor(l2_regularization=0.0,\n",
       "                                                           learning_rate=0.1,\n",
       "                                                           loss='least_squares',\n",
       "                                                           max_bins=255,\n",
       "                                                           max_depth=None,\n",
       "                                                           max_iter=100,\n",
       "                                                           max_leaf_nodes=31,\n",
       "                                                           min_samples_leaf=20,\n",
       "                                                           n_iter_no_change=None,\n",
       "                                                           random_state=None,\n",
       "                                                           scoring=None,\n",
       "                                                           tol=1e-07,\n",
       "                                                           validation_fraction=0.1,\n",
       "                                                           verbose=0,\n",
       "                                                           warm_start=False),\n",
       "                   iid='deprecate...\n",
       "                                        'loss': ['least_absolute_deviation'],\n",
       "                                        'max_depth': [10, 20, 30, 40, 50, 60,\n",
       "                                                      70],\n",
       "                                        'max_iter': [200, 500, 700],\n",
       "                                        'max_leaf_nodes': [3, 6, 9, 12, 15, 18,\n",
       "                                                           21, 24, 27],\n",
       "                                        'n_iter_no_change': [10],\n",
       "                                        'random_state': [2019],\n",
       "                                        'scoring': ['neg_mean_absolute_error',\n",
       "                                                    'neg_median_absolute_error'],\n",
       "                                        'tol': [0.01], 'verbose': [4]},\n",
       "                   pre_dispatch='2*n_jobs', random_state=None, refit=True,\n",
       "                   return_train_score=False, scoring=None, verbose=3)"
      ]
     },
     "execution_count": 22,
     "metadata": {},
     "output_type": "execute_result"
    }
   ],
   "source": [
    "cv_model.fit(X_train, y_train)"
   ]
  },
  {
   "cell_type": "code",
   "execution_count": 23,
   "metadata": {
    "ExecuteTime": {
     "end_time": "2020-10-05T15:16:49.291700Z",
     "start_time": "2020-10-05T15:16:49.279699Z"
    }
   },
   "outputs": [
    {
     "data": {
      "text/plain": [
       "HistGradientBoostingRegressor(l2_regularization=15, learning_rate=0.09,\n",
       "                              loss='least_absolute_deviation', max_bins=255,\n",
       "                              max_depth=40, max_iter=500, max_leaf_nodes=27,\n",
       "                              min_samples_leaf=20, n_iter_no_change=10,\n",
       "                              random_state=2019,\n",
       "                              scoring='neg_mean_absolute_error', tol=0.01,\n",
       "                              validation_fraction=0.1, verbose=4,\n",
       "                              warm_start=False)"
      ]
     },
     "execution_count": 23,
     "metadata": {},
     "output_type": "execute_result"
    }
   ],
   "source": [
    "cv_model.best_estimator_"
   ]
  },
  {
   "cell_type": "code",
   "execution_count": 29,
   "metadata": {
    "ExecuteTime": {
     "end_time": "2020-10-05T15:30:57.819678Z",
     "start_time": "2020-10-05T15:30:54.921602Z"
    }
   },
   "outputs": [
    {
     "name": "stdout",
     "output_type": "stream",
     "text": [
      "Hyperparameter Tuned HistGradientBootingRegressor: 10 Fold CV: \n",
      "Train R2 Score: 0.019\n",
      "Test R2 Score: 0.347\n",
      "RMSE on test: 0.7238827482514466\n",
      "RMSE on train: 6.48336711163429\n",
      "MEA Train: 1.3656165544314742\n",
      "MEA Test: 0.42012670773801114\n"
     ]
    }
   ],
   "source": [
    "print(\"Hyperparameter Tuned HistGradientBootingRegressor: 10 Fold CV: \")\n",
    "r2_train = cv_model.best_estimator_.score(X_train, y_train)\n",
    "r2_test = cv_model.best_estimator_.score(X_test, y_test)\n",
    "print(\"Train R2 Score: {:.3f}\".format(r2_train))\n",
    "print(\"Test R2 Score: {:.3f}\".format(r2_test))\n",
    "\n",
    "y_pred_test = cv_model.best_estimator_.predict(X_test)\n",
    "y_pred_train = cv_model.best_estimator_.predict(X_train)\n",
    "\n",
    "# MSE\n",
    "rmse_train = np.sqrt(mean_squared_error(y_train, y_pred_train))\n",
    "rmse_test = np.sqrt(mean_squared_error(y_test, y_pred_test))\n",
    "print(\"RMSE on test: {}\".format(rmse_test))\n",
    "print(\"RMSE on train: {}\".format(rmse_train))\n",
    "\n",
    "# MEA\n",
    "mea_train = mean_absolute_error(y_train,y_pred_train)\n",
    "mea_test = mean_absolute_error(y_test, y_pred_test)\n",
    "print(\"MEA Train: {}\".format(mea_train))\n",
    "print(\"MEA Test: {}\".format(mea_test))\n",
    "\n",
    "y_pred_test = pd.Series(y_pred_test)\n",
    "y_test_ser = pd.Series(y_test)\n",
    "y_pred_train = pd.Series(y_pred_train)\n",
    "y_train_ser = pd.Series(y_train)"
   ]
  },
  {
   "cell_type": "code",
   "execution_count": 25,
   "metadata": {
    "ExecuteTime": {
     "end_time": "2020-10-05T15:16:53.364212Z",
     "start_time": "2020-10-05T15:16:53.352214Z"
    }
   },
   "outputs": [
    {
     "data": {
      "text/plain": [
       "{'verbose': 4,\n",
       " 'tol': 0.01,\n",
       " 'scoring': 'neg_mean_absolute_error',\n",
       " 'random_state': 2019,\n",
       " 'n_iter_no_change': 10,\n",
       " 'max_leaf_nodes': 27,\n",
       " 'max_iter': 500,\n",
       " 'max_depth': 40,\n",
       " 'loss': 'least_absolute_deviation',\n",
       " 'learning_rate': 0.09,\n",
       " 'l2_regularization': 15}"
      ]
     },
     "execution_count": 25,
     "metadata": {},
     "output_type": "execute_result"
    }
   ],
   "source": [
    "cv_model.best_params_"
   ]
  },
  {
   "cell_type": "code",
   "execution_count": 26,
   "metadata": {
    "ExecuteTime": {
     "end_time": "2020-10-05T15:24:52.056926Z",
     "start_time": "2020-10-05T15:24:52.034924Z"
    }
   },
   "outputs": [
    {
     "data": {
      "text/plain": [
       "count    170451.000000\n",
       "mean          1.022253\n",
       "std           0.789053\n",
       "min           0.100508\n",
       "25%           0.573756\n",
       "50%           0.701538\n",
       "75%           1.052650\n",
       "max           6.029651\n",
       "dtype: float64"
      ]
     },
     "execution_count": 26,
     "metadata": {},
     "output_type": "execute_result"
    }
   ],
   "source": [
    "y_pred_test.describe()"
   ]
  },
  {
   "cell_type": "code",
   "execution_count": 74,
   "metadata": {
    "ExecuteTime": {
     "end_time": "2020-10-05T16:22:21.976080Z",
     "start_time": "2020-10-05T16:22:21.958528Z"
    }
   },
   "outputs": [
    {
     "data": {
      "text/plain": [
       "count    170451.000000\n",
       "mean          1.233708\n",
       "std           0.895634\n",
       "min           0.010000\n",
       "25%           0.582000\n",
       "50%           0.922000\n",
       "75%           1.670000\n",
       "max          23.910000\n",
       "dtype: float64"
      ]
     },
     "execution_count": 74,
     "metadata": {},
     "output_type": "execute_result"
    }
   ],
   "source": [
    "y_test_ser.describe()"
   ]
  },
  {
   "cell_type": "code",
   "execution_count": 81,
   "metadata": {
    "ExecuteTime": {
     "end_time": "2020-10-05T16:26:02.789096Z",
     "start_time": "2020-10-05T16:26:02.717239Z"
    }
   },
   "outputs": [],
   "source": [
    "# get the values in 25% and 75% of y_test\n",
    "y_test_quantile = y_test_ser[pd.qcut(y_test_ser, q = [0.25, 0.75], labels=False).dropna().index]\n",
    "y_pred_quantile = y_pred_test[pd.qcut(y_test_ser, q = [0.25, 0.75], labels=False).dropna().index]"
   ]
  },
  {
   "cell_type": "code",
   "execution_count": 90,
   "metadata": {
    "ExecuteTime": {
     "end_time": "2020-10-05T16:32:53.473213Z",
     "start_time": "2020-10-05T16:32:53.140200Z"
    },
    "scrolled": false
   },
   "outputs": [
    {
     "data": {
      "text/plain": [
       "<matplotlib.axes._subplots.AxesSubplot at 0x1fcbe07bb48>"
      ]
     },
     "execution_count": 90,
     "metadata": {},
     "output_type": "execute_result"
    },
    {
     "data": {
      "image/png": "[encoded data removed]",
      "text/plain": [
       "<Figure size 1080x576 with 1 Axes>"
      ]
     },
     "metadata": {},
     "output_type": "display_data"
    }
   ],
   "source": [
    "# plot the corresponding y_pred to y_test in quantile range\n",
    "import seaborn as sns\n",
    "\n",
    "#y_pred = list(y_pred_test)\n",
    "y_test = list(y_test_quantile[100:150])\n",
    "#y_test = list(y_test_ser)\n",
    "y_pred = list(y_pred_quantile[100:150])\n",
    "dict_test = {'y_pred': y_pred, 'y_test':y_test}\n",
    "plt.figure(figsize = (15, 8))\n",
    "prediction_viz = pd.DataFrame(dict_test)\n",
    "\n",
    "sns.lineplot(x = 'index', y = 'value', hue = 'variable', \n",
    "             data = pd.melt(prediction_viz.reset_index(), ['index']))\n"
   ]
  }
 ],
 "metadata": {
  "kernelspec": {
   "display_name": "Python 3",
   "language": "python",
   "name": "python3"
  },
  "language_info": {
   "codemirror_mode": {
    "name": "ipython",
    "version": 3
   },
   "file_extension": ".py",
   "mimetype": "text/x-python",
   "name": "python",
   "nbconvert_exporter": "python",
   "pygments_lexer": "ipython3",
   "version": "3.7.6"
  },
  "toc": {
   "base_numbering": 1,
   "nav_menu": {},
   "number_sections": true,
   "sideBar": true,
   "skip_h1_title": false,
   "title_cell": "Table of Contents",
   "title_sidebar": "Contents",
   "toc_cell": false,
   "toc_position": {
    "height": "calc(100% - 180px)",
    "left": "10px",
    "top": "150px",
    "width": "280px"
   },
   "toc_section_display": true,
   "toc_window_display": true
  },
  "varInspector": {
   "cols": {
    "lenName": 16,
    "lenType": 16,
    "lenVar": 40
   },
   "kernels_config": {
    "python": {
     "delete_cmd_postfix": "",
     "delete_cmd_prefix": "del ",
     "library": "var_list.py",
     "varRefreshCmd": "print(var_dic_list())"
    },
    "r": {
     "delete_cmd_postfix": ") ",
     "delete_cmd_prefix": "rm(",
     "library": "var_list.r",
     "varRefreshCmd": "cat(var_dic_list()) "
    }
   },
   "types_to_exclude": [
    "module",
    "function",
    "builtin_function_or_method",
    "instance",
    "_Feature"
   ],
   "window_display": false
  }
 },
 "nbformat": 4,
 "nbformat_minor": 4
}
